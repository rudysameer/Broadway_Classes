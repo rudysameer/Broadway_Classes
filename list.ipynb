{
 "cells": [
  {
   "cell_type": "code",
   "execution_count": 1,
   "id": "dabcd052",
   "metadata": {},
   "outputs": [],
   "source": [
    "# python collection\n",
    "# -list\n",
    "# -tuple\n",
    "# -dictionary\n",
    "# -set"
   ]
  },
  {
   "cell_type": "code",
   "execution_count": 2,
   "id": "00fd46c0",
   "metadata": {},
   "outputs": [],
   "source": [
    "# list \n",
    "# - Indexing\n",
    "# _Duplicate and multiple values\n",
    "# -ordered\n",
    "# -mutable"
   ]
  },
  {
   "cell_type": "code",
   "execution_count": 3,
   "id": "bc0238c1",
   "metadata": {},
   "outputs": [],
   "source": [
    "l = list()\n",
    "l = []\n"
   ]
  },
  {
   "cell_type": "code",
   "execution_count": 4,
   "id": "88b325ae",
   "metadata": {},
   "outputs": [
    {
     "name": "stdout",
     "output_type": "stream",
     "text": [
      "<class 'list'>\n"
     ]
    }
   ],
   "source": [
    "a = [1,2,3,4,5,6,7,8,9]\n",
    "b = [\"apple\",\"Ball\",\"cat\",\"dog\",\"fish\"]\n",
    "print(type(a))\n"
   ]
  },
  {
   "cell_type": "code",
   "execution_count": 6,
   "id": "42f0b357",
   "metadata": {},
   "outputs": [
    {
     "name": "stdout",
     "output_type": "stream",
     "text": [
      "1\n",
      "[1, 2, 3, 4, 5]\n",
      "['apple', 'cat', 'fish']\n"
     ]
    }
   ],
   "source": [
    "a = [1,2,3,4,5,6,7,8,9]\n",
    "b = [\"apple\",\"Ball\",\"cat\",\"dog\",\"fish\"]\n",
    "print(a[0])\n",
    "print(a[0:5])\n",
    "print(b[0:5:2])\n"
   ]
  },
  {
   "cell_type": "code",
   "execution_count": 7,
   "id": "212972e2",
   "metadata": {},
   "outputs": [
    {
     "data": {
      "text/plain": [
       "['apple', 'Ball', 'cat', 'dog', 'fish', 'apple', 'Ball']"
      ]
     },
     "execution_count": 7,
     "metadata": {},
     "output_type": "execute_result"
    }
   ],
   "source": [
    "b = [\"apple\",\"Ball\",\"cat\",\"dog\",\"fish\",\"apple\",\"Ball\"]\n",
    "b"
   ]
  },
  {
   "cell_type": "code",
   "execution_count": 8,
   "id": "92b9cfab",
   "metadata": {},
   "outputs": [
    {
     "name": "stdout",
     "output_type": "stream",
     "text": [
      "[1, 2, 3, 4, 5, 6, 7, 8]\n"
     ]
    }
   ],
   "source": [
    "# + *\n",
    "a = [1,2,3,4]\n",
    "b = [5,6,7,8]\n",
    "c = a+b\n",
    "print(c)"
   ]
  },
  {
   "cell_type": "code",
   "execution_count": 9,
   "id": "12066d0d",
   "metadata": {},
   "outputs": [
    {
     "name": "stdout",
     "output_type": "stream",
     "text": [
      "[1, 2, 3, 4, 1, 2, 3, 4]\n"
     ]
    }
   ],
   "source": [
    "a = [1,2,3,4]\n",
    "b = 2\n",
    "c = a*b\n",
    "print(c)"
   ]
  },
  {
   "cell_type": "code",
   "execution_count": 12,
   "id": "68d7387a",
   "metadata": {},
   "outputs": [
    {
     "name": "stdout",
     "output_type": "stream",
     "text": [
      "enter n = :4\n",
      "enter x = 12\n",
      "enter x = 23\n",
      "enter x = 45\n",
      "enter x = 56\n",
      "[12, 23, 45, 56]\n",
      "the sum 136\n",
      "the max =  56\n",
      "the min =  12\n",
      "the average =  34.0\n",
      "[12, 23, 45, 56]\n",
      "[56, 45, 23, 12]\n"
     ]
    }
   ],
   "source": [
    "l = []\n",
    "n = int(input(\"enter n = :\"))\n",
    "for i in range(n):\n",
    "    x = int(input(\"enter x = \"))\n",
    "    l = l + [x]\n",
    "print(l)\n",
    "print(\"the sum\",sum(l))\n",
    "print(\"the max = \",max(l))\n",
    "print(\"the min = \",min(l))\n",
    "print(\"the average = \",sum(l)/n)\n",
    "l.sort()\n",
    "print(l)\n",
    "l.reverse()\n",
    "print(l)\n",
    "\n"
   ]
  },
  {
   "cell_type": "code",
   "execution_count": 13,
   "id": "5c0363a5",
   "metadata": {},
   "outputs": [
    {
     "name": "stdout",
     "output_type": "stream",
     "text": [
      "['Ball', 'Ball', 'apple', 'apple', 'cat', 'dog', 'fish']\n"
     ]
    }
   ],
   "source": [
    "b = [\"apple\",\"Ball\",\"cat\",\"dog\",\"fish\",\"apple\",\"Ball\"]\n",
    "b.sort()\n",
    "print(b)"
   ]
  },
  {
   "cell_type": "code",
   "execution_count": 14,
   "id": "73d52e7a",
   "metadata": {},
   "outputs": [
    {
     "name": "stdout",
     "output_type": "stream",
     "text": [
      "apple\n",
      "Ball\n",
      "cat\n",
      "dog\n",
      "fish\n",
      "apple\n",
      "Ball\n"
     ]
    }
   ],
   "source": [
    "# loop in list\n",
    "b = [\"apple\",\"Ball\",\"cat\",\"dog\",\"fish\",\"apple\",\"Ball\"]\n",
    "for i in b:\n",
    "    print(i)"
   ]
  },
  {
   "cell_type": "code",
   "execution_count": 16,
   "id": "2bfa2748",
   "metadata": {},
   "outputs": [
    {
     "name": "stdout",
     "output_type": "stream",
     "text": [
      "apple\n",
      "Ball\n",
      "cat\n",
      "dog\n",
      "fish\n",
      "apple\n",
      "Ball\n"
     ]
    }
   ],
   "source": [
    "i = 0\n",
    "b = [\"apple\",\"Ball\",\"cat\",\"dog\",\"fish\",\"apple\",\"Ball\"]\n",
    "l = len(b)\n",
    "while i <l:\n",
    "    print(b[i])\n",
    "    i = i+1"
   ]
  },
  {
   "cell_type": "code",
   "execution_count": 17,
   "id": "d8fa6d5f",
   "metadata": {},
   "outputs": [],
   "source": [
    "# insert values\n",
    "# append() insert() extend\n",
    "\n",
    "# Delete values\n",
    "# del remove() pop()"
   ]
  },
  {
   "cell_type": "code",
   "execution_count": null,
   "id": "13a428a1",
   "metadata": {},
   "outputs": [],
   "source": []
  },
  {
   "cell_type": "code",
   "execution_count": null,
   "id": "7f5a9f27",
   "metadata": {},
   "outputs": [],
   "source": []
  },
  {
   "cell_type": "code",
   "execution_count": 20,
   "id": "80906bf7",
   "metadata": {},
   "outputs": [
    {
     "data": {
      "text/plain": [
       "['tan', 'apple', 'ball', 'dog', 'cat', 'rat']"
      ]
     },
     "execution_count": 20,
     "metadata": {},
     "output_type": "execute_result"
    }
   ],
   "source": [
    "a = [\"tan\"]\n",
    "a.append('apple')\n",
    "a.append('ball')\n",
    "a.append('dog')\n",
    "a.append('cat')\n",
    "a\n",
    "a.append(\"rat\")\n",
    "a\n",
    "a.delete()"
   ]
  },
  {
   "cell_type": "code",
   "execution_count": 22,
   "id": "5e392d76",
   "metadata": {},
   "outputs": [
    {
     "name": "stdout",
     "output_type": "stream",
     "text": [
      "enter n = :3\n",
      "enter x = 12\n",
      "enter x = 12\n",
      "enter x = 12\n",
      "[12, 12, 12]\n"
     ]
    }
   ],
   "source": [
    "l = []\n",
    "n = int(input(\"enter n = :\"))\n",
    "for i in range(n):\n",
    "    x = int(input(\"enter x = \"))\n",
    "    l.append(x)\n",
    "print(l)"
   ]
  },
  {
   "cell_type": "code",
   "execution_count": 24,
   "id": "50463bf7",
   "metadata": {},
   "outputs": [
    {
     "data": {
      "text/plain": [
       "['apple', 'Ball', 'Apple', 'cat', 'dog', 'fish']"
      ]
     },
     "execution_count": 24,
     "metadata": {},
     "output_type": "execute_result"
    }
   ],
   "source": [
    "#insert()\n",
    "b = [\"apple\",\"Ball\",\"cat\",\"dog\",\"fish\"]\n",
    "b.insert(2,'Apple')\n",
    "b"
   ]
  },
  {
   "cell_type": "code",
   "execution_count": 25,
   "id": "6eade1bc",
   "metadata": {},
   "outputs": [
    {
     "data": {
      "text/plain": [
       "[1, 2, 3, 4, 5, 6]"
      ]
     },
     "execution_count": 25,
     "metadata": {},
     "output_type": "execute_result"
    }
   ],
   "source": [
    "# extend()\n",
    "a = [1,2,3]\n",
    "b = [4,5,6]\n",
    "a.extend(b)\n",
    "a"
   ]
  },
  {
   "cell_type": "code",
   "execution_count": 27,
   "id": "9aa77ca2",
   "metadata": {},
   "outputs": [
    {
     "name": "stdout",
     "output_type": "stream",
     "text": [
      "['Ball', 'cat', 'dog', 'fish']\n"
     ]
    }
   ],
   "source": [
    "# Delete values\n",
    "# del remove() pop()\n",
    "\n",
    "b = [\"apple\",\"Ball\",\"cat\",\"dog\",\"fish\"]\n",
    "del b[0]\n",
    "print(b)"
   ]
  },
  {
   "cell_type": "code",
   "execution_count": 42,
   "id": "73b98405",
   "metadata": {},
   "outputs": [
    {
     "data": {
      "text/plain": [
       "[1, 3, 4, 5, 6]"
      ]
     },
     "execution_count": 42,
     "metadata": {},
     "output_type": "execute_result"
    }
   ],
   "source": [
    "# b = [\"apple\",\"Ball\",\"cat\",\"dog\",\"fish\"]\n",
    "\n",
    "# del b[0:3]\n",
    "# b\n",
    "a = [1,2,3,4,5,6]\n",
    "a.remove(2)\n",
    "a"
   ]
  },
  {
   "cell_type": "code",
   "execution_count": 34,
   "id": "c6c9a5c5",
   "metadata": {},
   "outputs": [
    {
     "data": {
      "text/plain": [
       "['Ball', 'dog', 'fish']"
      ]
     },
     "execution_count": 34,
     "metadata": {},
     "output_type": "execute_result"
    }
   ],
   "source": [
    "a = [\"apple\",\"Ball\",\"cat\",\"dog\",\"fish\"]\n",
    "a.remove(\"apple\")\n",
    "a\n",
    "a.remove(\"cat\")\n",
    "a\n"
   ]
  },
  {
   "cell_type": "code",
   "execution_count": 39,
   "id": "cb8ee676",
   "metadata": {},
   "outputs": [
    {
     "name": "stdout",
     "output_type": "stream",
     "text": [
      "['Ball', 'cat', 'dog', 'fish']\n"
     ]
    }
   ],
   "source": [
    "b = [\"apple\",\"Ball\",\"cat\",\"dog\",\"fish\",\"apple\",\"apple\"]\n",
    "c = b.count(\"apple\")\n",
    "for i in range(c):\n",
    "    b.remove(\"apple\")\n",
    "print(b)    \n"
   ]
  },
  {
   "cell_type": "code",
   "execution_count": 40,
   "id": "759132ac",
   "metadata": {},
   "outputs": [
    {
     "name": "stdout",
     "output_type": "stream",
     "text": [
      "['apple', 'Ball', 'dog', 'fish']\n"
     ]
    }
   ],
   "source": [
    "a = [\"apple\",\"Ball\",\"cat\",\"dog\",\"fish\"]\n",
    "a.pop(2)\n",
    "print(a)"
   ]
  },
  {
   "cell_type": "code",
   "execution_count": 1,
   "id": "c1c7b2c2",
   "metadata": {},
   "outputs": [
    {
     "data": {
      "text/plain": [
       "[[1, 2, 3, 4], [4, 5, 6], [7, 8, 9]]"
      ]
     },
     "execution_count": 1,
     "metadata": {},
     "output_type": "execute_result"
    }
   ],
   "source": [
    "# list insside list\n",
    "a = [[1,2,3,4],\n",
    "     [4,5,6],\n",
    "     [7,8,9]]\n",
    "a\n",
    "\n"
   ]
  },
  {
   "cell_type": "code",
   "execution_count": 2,
   "id": "ba6c9ce7",
   "metadata": {},
   "outputs": [
    {
     "data": {
      "text/plain": [
       "[1, 2, 3, 4]"
      ]
     },
     "execution_count": 2,
     "metadata": {},
     "output_type": "execute_result"
    }
   ],
   "source": [
    "a[0]"
   ]
  },
  {
   "cell_type": "code",
   "execution_count": 4,
   "id": "c3eb691b",
   "metadata": {},
   "outputs": [
    {
     "data": {
      "text/plain": [
       "[7, 8, 9]"
      ]
     },
     "execution_count": 4,
     "metadata": {},
     "output_type": "execute_result"
    }
   ],
   "source": [
    "a[1]\n",
    "a[2]"
   ]
  },
  {
   "cell_type": "code",
   "execution_count": 5,
   "id": "d4fa4124",
   "metadata": {},
   "outputs": [
    {
     "data": {
      "text/plain": [
       "1"
      ]
     },
     "execution_count": 5,
     "metadata": {},
     "output_type": "execute_result"
    }
   ],
   "source": [
    "a[0][0]"
   ]
  },
  {
   "cell_type": "code",
   "execution_count": 6,
   "id": "5dfd15d5",
   "metadata": {},
   "outputs": [
    {
     "data": {
      "text/plain": [
       "8"
      ]
     },
     "execution_count": 6,
     "metadata": {},
     "output_type": "execute_result"
    }
   ],
   "source": [
    "a[2][1]\n"
   ]
  },
  {
   "cell_type": "code",
   "execution_count": 10,
   "id": "43e0168e",
   "metadata": {},
   "outputs": [
    {
     "name": "stdout",
     "output_type": "stream",
     "text": [
      "['ram', 24, 'kathmandu']\n",
      "ram\n",
      "['sameer', 20, 'Lalitpur']\n",
      "sameer\n"
     ]
    }
   ],
   "source": [
    "a = [[\"ram\",24,\"kathmandu\"],[\"sameer\",20,\"Lalitpur\"],[\"shyam\",14,\"himandu\"]]\n",
    "print(a[0])\n",
    "print(a[0][0])\n",
    "print(a[1])\n",
    "print(a[1][0])"
   ]
  },
  {
   "cell_type": "code",
   "execution_count": 13,
   "id": "51996218",
   "metadata": {},
   "outputs": [
    {
     "name": "stdout",
     "output_type": "stream",
     "text": [
      "enter number of people2\n",
      "enter name = sam\n",
      "enter age = 23\n",
      "enter address = dsa\n",
      "enter name = sae\n",
      "enter age = 23\n",
      "enter address = svd\n",
      "[['sam', '23', 'dsa'], ['sae', '23', 'svd']]\n"
     ]
    }
   ],
   "source": [
    "l = []\n",
    "n = int(input(\"enter number of people\"))\n",
    "for i in range(n):\n",
    "    name = input(\"enter name = \")\n",
    "    age = input(\"enter age = \")\n",
    "    add = input(\"enter address = \")\n",
    "    info = [name,age,add]\n",
    "    l.append(info)\n",
    "print(l)"
   ]
  },
  {
   "cell_type": "code",
   "execution_count": 14,
   "id": "8fe2ff24",
   "metadata": {},
   "outputs": [
    {
     "data": {
      "text/plain": [
       "[['ram', 24, 'kathmandu'],\n",
       " ['sameer', 20, 'Lalitpur'],\n",
       " ['shyam', 14, 'himandu'],\n",
       " ['harry', 45, 'new york', 'usa']]"
      ]
     },
     "execution_count": 14,
     "metadata": {},
     "output_type": "execute_result"
    }
   ],
   "source": [
    "l = [[\"ram\",24,\"kathmandu\"],[\"sameer\",20,\"Lalitpur\"],[\"shyam\",14,\"himandu\"]]\n",
    "# add new value\n",
    "l.append([\"harry\",45,'new york','usa'])\n",
    "l"
   ]
  },
  {
   "cell_type": "code",
   "execution_count": 16,
   "id": "f506b229",
   "metadata": {},
   "outputs": [
    {
     "data": {
      "text/plain": [
       "[['reddy', 29, 'Austria'],\n",
       " ['sameer', 20, 'Lalitpur'],\n",
       " ['shyam', 14, 'himandu'],\n",
       " ['harry', 45, 'new york', 'usa']]"
      ]
     },
     "execution_count": 16,
     "metadata": {},
     "output_type": "execute_result"
    }
   ],
   "source": [
    "# update value\n",
    "l[0] = ['reddy',29,'Austria']\n",
    "l"
   ]
  },
  {
   "cell_type": "code",
   "execution_count": 17,
   "id": "dd845b50",
   "metadata": {},
   "outputs": [
    {
     "data": {
      "text/plain": [
       "[['Ramu prasad', 29, 'Austria'],\n",
       " ['sameer', 20, 'Lalitpur'],\n",
       " ['shyam', 14, 'himandu'],\n",
       " ['harry', 45, 'new york', 'usa']]"
      ]
     },
     "execution_count": 17,
     "metadata": {},
     "output_type": "execute_result"
    }
   ],
   "source": [
    "l[0][0]='Ramu prasad'\n",
    "l\n"
   ]
  },
  {
   "cell_type": "code",
   "execution_count": 18,
   "id": "52b678ae",
   "metadata": {},
   "outputs": [
    {
     "data": {
      "text/plain": [
       "[['sameer', 20, 'Lalitpur'],\n",
       " ['shyam', 14, 'himandu'],\n",
       " ['harry', 45, 'new york', 'usa']]"
      ]
     },
     "execution_count": 18,
     "metadata": {},
     "output_type": "execute_result"
    }
   ],
   "source": [
    "del l[0]\n",
    "l"
   ]
  },
  {
   "cell_type": "code",
   "execution_count": 23,
   "id": "69a4a811",
   "metadata": {},
   "outputs": [
    {
     "name": "stdout",
     "output_type": "stream",
     "text": [
      "enter name :messi\n",
      "name not found\n"
     ]
    }
   ],
   "source": [
    "c = 0\n",
    "data = [['Ramu', 29, 'Austria'],\n",
    "        ['sameer', 20, 'Lalitpur'],\n",
    " ['sameer', 20, 'Lalitpur'],\n",
    " ['shyam', 14, 'himandu'],\n",
    " ['harry', 45, 'new york']]\n",
    "\n",
    "name = input(\"enter name :\")\n",
    "for i in data:\n",
    "    if i[0].lower()==name.lower():\n",
    "        print(i)\n",
    "        c = c+1\n",
    "if c ==0:\n",
    "    print(\"name not found\")\n",
    "        \n",
    "else:\n",
    "    print(c,\"no of rows of found\")\n"
   ]
  },
  {
   "cell_type": "code",
   "execution_count": 27,
   "id": "6f480e77",
   "metadata": {},
   "outputs": [
    {
     "name": "stdout",
     "output_type": "stream",
     "text": [
      "yes\n",
      "2\n"
     ]
    }
   ],
   "source": [
    "a = [\"Ram\",\"Shyam\",\"hari\",'thuram','Ram']\n",
    "if \"Ram\" in a:\n",
    "    print('yes')\n",
    "    print(a.count(\"Ram\"))\n",
    "else:\n",
    "    print(\"no name not found\")"
   ]
  },
  {
   "cell_type": "code",
   "execution_count": 1,
   "id": "a2fe2a0c",
   "metadata": {},
   "outputs": [],
   "source": [
    "# WAP to create matrix taking no of rows, columns and data as inputs\n",
    "# WAP to convert string into list inside list eg\n",
    "#split()\n",
    "# Apple 300 1 300 yesma chai convert matra garni \n",
    "# banana 200 2 400\n",
    "#     to\n",
    "#     [['Apple',300,1,300],\n",
    "#     ['banana', 200, 2, 400]]\n",
    "# WAP to create result management system in list inside list and perform CRUD\n"
   ]
  },
  {
   "cell_type": "code",
   "execution_count": 1,
   "id": "3779c3e0",
   "metadata": {},
   "outputs": [
    {
     "name": "stdout",
     "output_type": "stream",
     "text": [
      "enter the number of the rows :2\n",
      "enter the number of the columns :4\n",
      "enter the data :1\n",
      "enter the data :2\n",
      "enter the data :3\n",
      "enter the data :4\n",
      "\n",
      "\n",
      "[[1, 2, 3, 4]]\n",
      "enter the data :5\n",
      "enter the data :6\n",
      "enter the data :7\n",
      "enter the data :8\n",
      "\n",
      "\n",
      "[[1, 2, 3, 4], [5, 6, 7, 8]]\n"
     ]
    }
   ],
   "source": [
    "# Question no.1\n",
    "# WAP to create matrix taking no of rows, columns and data as inputs\n",
    "l =[]\n",
    "rows = int(input(\"enter the number of the rows :\"))\n",
    "columns = int(input(\"enter the number of the columns :\"))\n",
    "\n",
    "for i in range(rows):\n",
    "    y=[]\n",
    "    for j in range(columns):\n",
    "        data = int(input(\"enter the data :\"))\n",
    "       \n",
    "        y.append(data) \n",
    "    l.append(y)\n",
    "    print(\"\\n\")   \n",
    "    print(l)\n",
    "\n",
    "        \n",
    "\n"
   ]
  },
  {
   "cell_type": "code",
   "execution_count": 11,
   "id": "24c68570",
   "metadata": {},
   "outputs": [
    {
     "ename": "SyntaxError",
     "evalue": "invalid syntax (1916531548.py, line 1)",
     "output_type": "error",
     "traceback": [
      "\u001b[1;36m  Cell \u001b[1;32mIn[11], line 1\u001b[1;36m\u001b[0m\n\u001b[1;33m    string1 ' Banana, 200 2 400'\u001b[0m\n\u001b[1;37m            ^\u001b[0m\n\u001b[1;31mSyntaxError\u001b[0m\u001b[1;31m:\u001b[0m invalid syntax\n"
     ]
    }
   ],
   "source": [
    "#question number 2\n",
    "# WAP to convert string into list inside list eg\n",
    "#split()\n",
    "# Apple 300 1 300 yesma chai convert matra garni \n",
    "# banana 200 2 400\n",
    "\n",
    "string1 ' Banana, 200 2 400 '\n",
    "string2  'Apple,  100 4 400 '\n",
    "\n",
    "list1 = string1.split()\n",
    "list2 = string2.split()\n",
    "\n",
    "print(list1)\n",
    "print(list2)"
   ]
  },
  {
   "cell_type": "code",
   "execution_count": 1,
   "id": "91063f20",
   "metadata": {},
   "outputs": [],
   "source": [
    "# WAP to create result management system in list inside list and perform CRUD\n",
    "\n"
   ]
  },
  {
   "cell_type": "code",
   "execution_count": null,
   "id": "19154964",
   "metadata": {},
   "outputs": [],
   "source": []
  },
  {
   "cell_type": "code",
   "execution_count": null,
   "id": "ba7f8ff2",
   "metadata": {},
   "outputs": [],
   "source": []
  }
 ],
 "metadata": {
  "kernelspec": {
   "display_name": "Python 3 (ipykernel)",
   "language": "python",
   "name": "python3"
  },
  "language_info": {
   "codemirror_mode": {
    "name": "ipython",
    "version": 3
   },
   "file_extension": ".py",
   "mimetype": "text/x-python",
   "name": "python",
   "nbconvert_exporter": "python",
   "pygments_lexer": "ipython3",
   "version": "3.11.3"
  }
 },
 "nbformat": 4,
 "nbformat_minor": 5
}
