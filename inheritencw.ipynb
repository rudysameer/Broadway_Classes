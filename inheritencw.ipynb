{
 "cells": [
  {
   "cell_type": "code",
   "execution_count": null,
   "id": "146d5a1a",
   "metadata": {},
   "outputs": [],
   "source": [
    "# class A:\n",
    "#     pass\n",
    "\n",
    "# class B(A):\n",
    "#     pass\n",
    "\n",
    "# obj = B()\n"
   ]
  },
  {
   "cell_type": "code",
   "execution_count": 7,
   "id": "4a8bd279",
   "metadata": {},
   "outputs": [
    {
     "name": "stdout",
     "output_type": "stream",
     "text": [
      "enter nameAS\n",
      "enter addressSAD\n",
      "enter age 2\n",
      "enter phone12\n",
      "Hello i am AS. I am from 2.I am SAD. My phone number is 12 \n",
      "AS 2 SAD\n",
      "AS SAD 2 12\n"
     ]
    }
   ],
   "source": [
    "class Data:\n",
    "    def __init__(self,name,add,age):   #parent child\n",
    "        self.name = name\n",
    "        self.age = age\n",
    "        self.add = add\n",
    "        \n",
    "    def data (self):\n",
    "        print(self.name,self.add,self.age)\n",
    "        \n",
    "        \n",
    "class Info(Data): #child class\n",
    "    def __init__(self,name,add,age,phone):\n",
    "        self.phone = phone\n",
    "        Data.__init__(self,name,age,add)\n",
    "    \n",
    "    \n",
    "    def info(self):\n",
    "        print(f\"Hello i am {self.name}. I am from {self.add}.I am {self.age}. My phone number is {self.phone} \")\n",
    "        \n",
    "\n",
    "name = input(\"enter name\")\n",
    "add = input(\"enter address\")\n",
    "age = input(\"enter age \")\n",
    "phone = int(input(\"enter phone\"))\n",
    "\n",
    "obj = Info(name,add,age,phone)\n",
    "obj.info()\n",
    "obj.data()\n",
    "print(obj.name,obj.age,obj.add,obj.phone)\n",
    "        "
   ]
  },
  {
   "cell_type": "code",
   "execution_count": 8,
   "id": "4fc73ba4",
   "metadata": {},
   "outputs": [],
   "source": [
    "#multi level inheritence\n",
    "class A:\n",
    "    pass\n",
    "\n",
    "class B(A):\n",
    "    pass\n",
    "\n",
    "class C(B):\n",
    "    pass\n",
    "\n",
    "obj = C()"
   ]
  },
  {
   "cell_type": "code",
   "execution_count": 10,
   "id": "23390f4d",
   "metadata": {},
   "outputs": [],
   "source": [
    "# multiple inheritence\n",
    "class A:\n",
    "    pass\n",
    "\n",
    "class B:\n",
    "    pass\n",
    "\n",
    "class C(A,B):\n",
    "    pass\n",
    "\n",
    "obj = C()"
   ]
  },
  {
   "cell_type": "code",
   "execution_count": 14,
   "id": "ba4c6a0e",
   "metadata": {},
   "outputs": [
    {
     "name": "stdout",
     "output_type": "stream",
     "text": [
      "Hello i am RAm. I am from 100.I am Dhapakhel. My phone number is 9841 \n",
      "RAm 100 Dhapakhel 9841\n",
      "RAm Dhapakhel 100 9841\n"
     ]
    }
   ],
   "source": [
    "class Address:\n",
    "    def __init__(self,add):\n",
    "        self.add = add\n",
    "    \n",
    "    def address(self):\n",
    "        print(\"hello from {self.add}\")\n",
    "\n",
    "class Data:\n",
    "    def __init__(self,name,add,age):   #parent child\n",
    "        self.name = name\n",
    "        self.age = age\n",
    "        Address.__init__(self,add)\n",
    "      \n",
    "        \n",
    "    def data (self):\n",
    "        print(self.name,self.add,self.age,self.phone)\n",
    "        \n",
    "        \n",
    "class Info(Data): #child class\n",
    "    def __init__(self,name,add,age,phone):\n",
    "        self.phone = phone\n",
    "        Data.__init__(self,name,age,add)\n",
    "    \n",
    "    \n",
    "    def info(self):\n",
    "        print(f\"Hello i am {self.name}. I am from {self.add}.I am {self.age}. My phone number is {self.phone} \")\n",
    "        \n",
    "\n",
    "\n",
    "\n",
    "obj = Info(\"RAm\",\"Dhapakhel\",100,9841)\n",
    "obj.info()\n",
    "obj.data()\n",
    "print(obj.name,obj.age,obj.add,obj.phone)\n",
    "        "
   ]
  },
  {
   "cell_type": "code",
   "execution_count": 20,
   "id": "49a26a41",
   "metadata": {},
   "outputs": [
    {
     "name": "stdout",
     "output_type": "stream",
     "text": [
      "hello world i am Ram. i am from kathmandu.I am from 12\n"
     ]
    }
   ],
   "source": [
    "class A:\n",
    "    def __init__(self):\n",
    "        self.name = \"Ram\"\n",
    "        \n",
    "class B(A):\n",
    "    def __init__(self):\n",
    "        self.age = 12\n",
    "        A.__init__(self)\n",
    "        \n",
    "class C(B):\n",
    "    def __init__(self):\n",
    "        self.address = \"kathmandu\"\n",
    "        B.__init__(self)\n",
    "        \n",
    "    def info(self):\n",
    "        print(f\"hello world i am {self.name}. i am from {self.address}.I am from {self.age}\")\n",
    "        \n",
    "obj = C()\n",
    "obj.info()\n",
    "        \n",
    "        "
   ]
  },
  {
   "cell_type": "code",
   "execution_count": null,
   "id": "7784e8bb",
   "metadata": {},
   "outputs": [],
   "source": [
    "# privwte, public and protected members"
   ]
  },
  {
   "cell_type": "code",
   "execution_count": 1,
   "id": "d35f2dda",
   "metadata": {},
   "outputs": [
    {
     "name": "stdout",
     "output_type": "stream",
     "text": [
      "Hello i am ram.age of 24 living in kathmandu\n",
      "ram 24 kathmandu\n"
     ]
    }
   ],
   "source": [
    "# public members\n",
    "class Info:\n",
    "    def __init__(self):\n",
    "        self.name = 'ram'\n",
    "        self.age = 24\n",
    "        self.add = \"kathmandu\"\n",
    "    \n",
    "    def info(self):\n",
    "        print(f\"Hello i am {self.name}.age of {self.age} living in {self.add}\")\n",
    "        \n",
    "obj = Info()\n",
    "obj.info()\n",
    "print(obj.name, obj.age, obj.add)\n",
    "    "
   ]
  },
  {
   "cell_type": "code",
   "execution_count": 3,
   "id": "ee3a0084",
   "metadata": {},
   "outputs": [
    {
     "name": "stdout",
     "output_type": "stream",
     "text": [
      "Hello i am ram.age of 24 living in kathmandu\n",
      "ram 24 kathmandu\n"
     ]
    }
   ],
   "source": [
    "# protected members\n",
    "class Info:\n",
    "    def __init__(self):\n",
    "        self._name = 'ram'\n",
    "        self._age = 24\n",
    "        self._add = \"kathmandu\"\n",
    "    \n",
    "    def info(self):\n",
    "        print(f\"Hello i am {self._name}.age of {self._age} living in {self._add}\")\n",
    "        \n",
    "obj = Info()\n",
    "obj.info()\n",
    "print(obj._name, obj._age, obj._add)\n",
    "    "
   ]
  },
  {
   "cell_type": "code",
   "execution_count": 5,
   "id": "2999ba26",
   "metadata": {},
   "outputs": [
    {
     "name": "stdout",
     "output_type": "stream",
     "text": [
      "ram 24 kathmandu\n",
      "Hello i am ram.age of 24 living in kathmandu\n"
     ]
    }
   ],
   "source": [
    "# private members\n",
    "class Info:\n",
    "    def __init__(self):\n",
    "        self.__name = 'ram'\n",
    "        self.__age = 24\n",
    "        self.__add = \"kathmandu\"\n",
    "    \n",
    "    def info(self):\n",
    "        print(f\"Hello i am {self.__name}.age of {self.__age} living in {self.__add}\")\n",
    "    print(obj.__name, obj.__age, obj.__add) \n",
    "    \n",
    "    \n",
    "obj = Info()\n",
    "obj.info()\n",
    "\n",
    "    "
   ]
  },
  {
   "cell_type": "code",
   "execution_count": 15,
   "id": "572ef0bf",
   "metadata": {},
   "outputs": [
    {
     "name": "stdout",
     "output_type": "stream",
     "text": [
      "Hello i am ram.age of 24 living in \n",
      "ram 24 kathmandu\n"
     ]
    }
   ],
   "source": [
    "# public members\n",
    "class Data:              #parent child\n",
    "    def __init__(self):\n",
    "        self.name = 'ram'           #public\n",
    "        self._age = 24              #protected\n",
    "        self.__add = \"kathmandu\"    #private  \n",
    "    \n",
    "    def data(self):\n",
    "        print(self.name, self._age, self.__add)\n",
    "    \n",
    "    \n",
    "class Info(Data):           #child class\n",
    "    def info(self):\n",
    "        print(f\"Hello i am {self.name}.age of {self._age} living in \")\n",
    "        \n",
    "    def my_data(self):\n",
    "        \n",
    "#         Data.data(self)\n",
    "        super().data()\n",
    "    \n",
    "    \n",
    "obj = Info()\n",
    "obj.info()\n",
    "obj.my_data()\n",
    "\n",
    "\n",
    "    "
   ]
  },
  {
   "cell_type": "code",
   "execution_count": 20,
   "id": "f4c01e60",
   "metadata": {},
   "outputs": [
    {
     "name": "stdout",
     "output_type": "stream",
     "text": [
      "Hello i am ram.age of 24 living in kathmandu\n",
      "ram 24 kathmandu\n"
     ]
    }
   ],
   "source": [
    "# private members\n",
    "class Info:\n",
    "    def __init__(self):\n",
    "        self.name = 'ram'\n",
    "        self._age = 24\n",
    "        self.__add = \"kathmandu\"\n",
    "    \n",
    "    def info(self):\n",
    "        print(f\"Hello i am {self.name}.age of {self._age} living in {self.__add}\")\n",
    " \n",
    "    \n",
    "    \n",
    "obj = Info()\n",
    "obj.info()\n",
    "print(obj.name, obj._age, obj._Info__add) \n",
    "\n",
    "    "
   ]
  },
  {
   "cell_type": "code",
   "execution_count": 21,
   "id": "4efca554",
   "metadata": {},
   "outputs": [
    {
     "name": "stdout",
     "output_type": "stream",
     "text": [
      "Hello i am ram.age of 24 living in kathmandu\n",
      "ram 24 kathmandu\n"
     ]
    }
   ],
   "source": [
    "# public members\n",
    "class Data:              #parent child\n",
    "    def __init__(self):\n",
    "        self.name = 'ram'           #public\n",
    "        self._age = 24              #protected\n",
    "        self.__add = \"kathmandu\"    #private  \n",
    "    \n",
    "    def data(self):\n",
    "        print(self.name, self._age, self.__add)\n",
    "    \n",
    "    \n",
    "class Info(Data):           #child class\n",
    "    def info(self):\n",
    "        print(f\"Hello i am {self.name}.age of {self._age} living in {self._Data__add}\")\n",
    "        \n",
    "    def my_data(self):\n",
    "        \n",
    "#         Data.data(self)\n",
    "        super().data()\n",
    "    \n",
    "    \n",
    "obj = Info()\n",
    "obj.info()\n",
    "obj.my_data()\n",
    "\n",
    "\n",
    "    "
   ]
  },
  {
   "cell_type": "code",
   "execution_count": 28,
   "id": "149654b1",
   "metadata": {},
   "outputs": [
    {
     "name": "stdout",
     "output_type": "stream",
     "text": [
      "Hello i am ram.age of 24 living in kathmandu\n",
      "ram\n",
      "<class '__main__.Info'>\n"
     ]
    }
   ],
   "source": [
    "# str\n",
    "# private members\n",
    "class Info:\n",
    "    def __init__(self):\n",
    "        self.name = 'ram'\n",
    "        self.age = 24\n",
    "        self.add = \"kathmandu\"\n",
    "        \n",
    "    def __str__(self):\n",
    "        return self.name\n",
    "        \n",
    "    \n",
    "    def info(self):\n",
    "        print(f\"Hello i am {self.name}.age of {self.age} living in {self.add}\")\n",
    " \n",
    "    \n",
    "    \n",
    "obj = Info()\n",
    "obj.info()\n",
    "print(obj) \n",
    "# print(obj + \"shyam\") never concanite object and string. object is not sring\n",
    "# print(obj + obj ) neither obj or obj is concanitate\n",
    "\n",
    "print(type(obj)) \n",
    "\n",
    "    \n",
    "\n"
   ]
  },
  {
   "cell_type": "code",
   "execution_count": null,
   "id": "6c209eb3",
   "metadata": {},
   "outputs": [],
   "source": []
  },
  {
   "cell_type": "code",
   "execution_count": null,
   "id": "002df908",
   "metadata": {},
   "outputs": [],
   "source": []
  },
  {
   "cell_type": "code",
   "execution_count": null,
   "id": "416071b7",
   "metadata": {},
   "outputs": [],
   "source": []
  },
  {
   "cell_type": "code",
   "execution_count": null,
   "id": "ba0f9a40",
   "metadata": {},
   "outputs": [],
   "source": []
  },
  {
   "cell_type": "code",
   "execution_count": null,
   "id": "c311ca18",
   "metadata": {},
   "outputs": [],
   "source": []
  },
  {
   "cell_type": "code",
   "execution_count": null,
   "id": "948ed604",
   "metadata": {},
   "outputs": [],
   "source": []
  },
  {
   "cell_type": "code",
   "execution_count": null,
   "id": "0a59ae53",
   "metadata": {},
   "outputs": [],
   "source": []
  }
 ],
 "metadata": {
  "kernelspec": {
   "display_name": "Python 3 (ipykernel)",
   "language": "python",
   "name": "python3"
  },
  "language_info": {
   "codemirror_mode": {
    "name": "ipython",
    "version": 3
   },
   "file_extension": ".py",
   "mimetype": "text/x-python",
   "name": "python",
   "nbconvert_exporter": "python",
   "pygments_lexer": "ipython3",
   "version": "3.11.3"
  }
 },
 "nbformat": 4,
 "nbformat_minor": 5
}
