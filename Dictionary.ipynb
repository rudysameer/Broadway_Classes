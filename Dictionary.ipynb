{
 "cells": [
  {
   "cell_type": "code",
   "execution_count": 1,
   "id": "b9e74545",
   "metadata": {},
   "outputs": [],
   "source": [
    "# #Dict\n",
    "# -Indexing\n",
    "# -Multiple and duplicate data\n",
    "# -ordered\n",
    "# -Mutable"
   ]
  },
  {
   "cell_type": "code",
   "execution_count": 2,
   "id": "ef928d31",
   "metadata": {},
   "outputs": [],
   "source": [
    "# d = {<key>:<value>,<key>:<value>}"
   ]
  },
  {
   "cell_type": "code",
   "execution_count": 3,
   "id": "03d69f33",
   "metadata": {},
   "outputs": [
    {
     "data": {
      "text/plain": [
       "{'a': 'Apple', 'b': 'Ball', 'c': 'Cat'}"
      ]
     },
     "execution_count": 3,
     "metadata": {},
     "output_type": "execute_result"
    }
   ],
   "source": [
    "d = {'a':'Apple', 'b':'Ball', 'c':'Cat'}\n",
    "d\n"
   ]
  },
  {
   "cell_type": "code",
   "execution_count": 5,
   "id": "878df64f",
   "metadata": {},
   "outputs": [
    {
     "name": "stdout",
     "output_type": "stream",
     "text": [
      "Apple\n",
      "Ball\n"
     ]
    }
   ],
   "source": [
    "print(d['a'])\n",
    "print(d['b'])"
   ]
  },
  {
   "cell_type": "code",
   "execution_count": 6,
   "id": "58293f73",
   "metadata": {},
   "outputs": [
    {
     "data": {
      "text/plain": [
       "{'a': 'Apple', 'b': 'Ball', 'c': 'Cat', 'C': 'cat'}"
      ]
     },
     "execution_count": 6,
     "metadata": {},
     "output_type": "execute_result"
    }
   ],
   "source": [
    "d = {'a':'Apple', 'b':'Ball', 'c':'Cat','C':'cat'}\n",
    "d\n"
   ]
  },
  {
   "cell_type": "code",
   "execution_count": 7,
   "id": "0376c281",
   "metadata": {},
   "outputs": [
    {
     "data": {
      "text/plain": [
       "dict"
      ]
     },
     "execution_count": 7,
     "metadata": {},
     "output_type": "execute_result"
    }
   ],
   "source": [
    "# create a dictionary\n",
    "d ={}\n",
    "type(d)\n"
   ]
  },
  {
   "cell_type": "code",
   "execution_count": 8,
   "id": "b7eac496",
   "metadata": {},
   "outputs": [
    {
     "data": {
      "text/plain": [
       "dict"
      ]
     },
     "execution_count": 8,
     "metadata": {},
     "output_type": "execute_result"
    }
   ],
   "source": [
    "d = dict()\n",
    "type(d)"
   ]
  },
  {
   "cell_type": "code",
   "execution_count": 9,
   "id": "1cc65b78",
   "metadata": {},
   "outputs": [
    {
     "data": {
      "text/plain": [
       "{'a': 'Apple', 'b': 'BAll', 'c': 'cat', 'd': 'dog'}"
      ]
     },
     "execution_count": 9,
     "metadata": {},
     "output_type": "execute_result"
    }
   ],
   "source": [
    "# Add values\n",
    "d = {}\n",
    "d['a']='Apple'\n",
    "d['b']='BAll'\n",
    "d['c']='cat'\n",
    "d['d']='dog'\n",
    "d"
   ]
  },
  {
   "cell_type": "code",
   "execution_count": 10,
   "id": "eb2af824",
   "metadata": {},
   "outputs": [
    {
     "data": {
      "text/plain": [
       "{'a': 'Ant', 'b': 'Ball'}"
      ]
     },
     "execution_count": 10,
     "metadata": {},
     "output_type": "execute_result"
    }
   ],
   "source": [
    "d = {'a':'Apple','b':'Ball','c':'cat'}\n",
    "d['a']='Ant'\n",
    "d"
   ]
  },
  {
   "cell_type": "code",
   "execution_count": 12,
   "id": "2ebbb554",
   "metadata": {},
   "outputs": [
    {
     "name": "stdout",
     "output_type": "stream",
     "text": [
      "a\n",
      "b\n",
      "c\n"
     ]
    }
   ],
   "source": [
    "d = {'a':'Apple','b':'Ball','c':'cat'}\n",
    "for i in d:\n",
    "    print(i)"
   ]
  },
  {
   "cell_type": "code",
   "execution_count": 14,
   "id": "c0aa60d2",
   "metadata": {},
   "outputs": [
    {
     "name": "stdout",
     "output_type": "stream",
     "text": [
      "Apple\n",
      "Ball\n",
      "cat\n"
     ]
    }
   ],
   "source": [
    "d = {'a':'Apple','b':'Ball','c':'cat'}\n",
    "for i in d.values():\n",
    "    print(i)"
   ]
  },
  {
   "cell_type": "code",
   "execution_count": 16,
   "id": "b531c350",
   "metadata": {},
   "outputs": [
    {
     "name": "stdout",
     "output_type": "stream",
     "text": [
      "('a', 'Apple')\n",
      "('b', 'Ball')\n",
      "('c', 'cat')\n"
     ]
    }
   ],
   "source": [
    "d = {'a':'Apple','b':'Ball','c':'cat'}\n",
    "for i in d.items():\n",
    "    print(i)"
   ]
  },
  {
   "cell_type": "code",
   "execution_count": 17,
   "id": "bdec7c6a",
   "metadata": {},
   "outputs": [
    {
     "data": {
      "text/plain": [
       "{'a': 'ant', 'b': 'ball', 'c': 'cat'}"
      ]
     },
     "execution_count": 17,
     "metadata": {},
     "output_type": "execute_result"
    }
   ],
   "source": [
    "# conver list into dictionary\n",
    "d = [['a','ant'],['b','ball'],['c','cat']]\n",
    "dict(d)"
   ]
  },
  {
   "cell_type": "code",
   "execution_count": 18,
   "id": "d3f8e301",
   "metadata": {},
   "outputs": [
    {
     "name": "stdout",
     "output_type": "stream",
     "text": [
      "enter n= 2\n",
      "enter name sam\n",
      "enter phone number123\n",
      "enter name ram\n",
      "enter phone number456\n",
      "{'sam': '123', 'ram': '456'}\n"
     ]
    }
   ],
   "source": [
    "data ={}\n",
    "n = int(input(\"enter n= \"))\n",
    "for i in range(n):\n",
    "    name = input(\"enter name \")\n",
    "    phone = input(\"enter phone number\")\n",
    "    data[name] = phone\n",
    "    \n",
    "    \n",
    "print(data)    "
   ]
  },
  {
   "cell_type": "code",
   "execution_count": 20,
   "id": "16f07681",
   "metadata": {},
   "outputs": [],
   "source": [
    "# no list as key dict"
   ]
  },
  {
   "cell_type": "code",
   "execution_count": 21,
   "id": "78a7994b",
   "metadata": {},
   "outputs": [
    {
     "data": {
      "text/plain": [
       "{'ram': [234, 456], 'shyam': [324, 768]}"
      ]
     },
     "execution_count": 21,
     "metadata": {},
     "output_type": "execute_result"
    }
   ],
   "source": [
    "# list inside dictionary\n",
    "data = {\"ram\":[234,456],'shyam':[324,768]}\n",
    "data\n"
   ]
  },
  {
   "cell_type": "code",
   "execution_count": 23,
   "id": "2b7f7124",
   "metadata": {},
   "outputs": [
    {
     "name": "stdout",
     "output_type": "stream",
     "text": [
      "enter n= 2\n",
      "enter name sandy\n",
      "enter Ncellphone number123\n",
      "enter ntc number 234\n",
      "enter name toyota\n",
      "enter Ncellphone number445\n",
      "enter ntc number 223\n",
      "{'sandy': ['123', '234'], 'toyota': ['445', '223']}\n"
     ]
    }
   ],
   "source": [
    "data ={}\n",
    "phone =[]\n",
    "n = int(input(\"enter n= \"))\n",
    "for i in range(n):\n",
    "    name = input(\"enter name \")\n",
    "    ncell_phone = input(\"enter Ncellphone number\")\n",
    "    ntc_phone = input(\"enter ntc number \")\n",
    "    data[name] = [ncell_phone,ntc_phone]\n",
    "print(data)   "
   ]
  },
  {
   "cell_type": "code",
   "execution_count": 26,
   "id": "7bd77648",
   "metadata": {},
   "outputs": [
    {
     "name": "stdout",
     "output_type": "stream",
     "text": [
      "Ntc number of ram 234\n"
     ]
    }
   ],
   "source": [
    "print(\"Ntc number of ram\",data['sandy'][1])"
   ]
  },
  {
   "cell_type": "code",
   "execution_count": 27,
   "id": "2d5e10f0",
   "metadata": {},
   "outputs": [
    {
     "data": {
      "text/plain": [
       "{'name': ['ram', 'shyam', 'hari'],\n",
       " 'age': [78, 65, 18],\n",
       " 'add': ['Dhapakhel', 'Lalitpur', 'Bhaktapur']}"
      ]
     },
     "execution_count": 27,
     "metadata": {},
     "output_type": "execute_result"
    }
   ],
   "source": [
    "data = {\n",
    "    'name':['ram','shyam','hari'],\n",
    "    'age' :[78,65,18],\n",
    "    'add' :['Dhapakhel','Lalitpur','Bhaktapur']\n",
    "}\n"
   ]
  },
  {
   "cell_type": "code",
   "execution_count": 29,
   "id": "f4da7a5d",
   "metadata": {},
   "outputs": [
    {
     "name": "stdout",
     "output_type": "stream",
     "text": [
      "enter n :2\n",
      "enter name sa\n",
      "enter age 12\n",
      "enter address asd\n",
      "enter name sad\n",
      "enter age 23\n",
      "enter address asd\n",
      "{'name': ['sa', 'sad'], 'age': [12, 23], 'add': ['asd', 'asd']}\n"
     ]
    }
   ],
   "source": [
    "data ={'name':[],\n",
    "       'age' :[],\n",
    "       'add' :[]\n",
    "      }\n",
    "n = int(input(\"enter n :\"))\n",
    "for i in range(n):\n",
    "    name = input(\"enter name \")\n",
    "    age = int(input(\"enter age \"))\n",
    "    add = input(\"enter address \")\n",
    "    data['name'].append(name)\n",
    "    data['age'].append(age)\n",
    "    data['add'].append(add)\n",
    "    \n",
    "print(data)    "
   ]
  },
  {
   "cell_type": "code",
   "execution_count": 1,
   "id": "87bdc4a8",
   "metadata": {},
   "outputs": [
    {
     "name": "stdout",
     "output_type": "stream",
     "text": [
      "name: ram\n",
      "age: 78\n",
      "address: Dhapakhel\n"
     ]
    }
   ],
   "source": [
    "# details of ram\n",
    "l = []\n",
    "data = {\n",
    "    'name':['ram','shyam','hari'],\n",
    "    'age' :[78,65,18],\n",
    "    'add' :['Dhapakhel','Lalitpur','Bhaktapur']\n",
    "}\n",
    "\n",
    "print(\"name:\",data['name'][0])\n",
    "print(\"age:\",data['age'][0])\n",
    "print(\"address:\",data['add'][0])\n"
   ]
  },
  {
   "cell_type": "code",
   "execution_count": 4,
   "id": "2229adff",
   "metadata": {},
   "outputs": [
    {
     "name": "stdout",
     "output_type": "stream",
     "text": [
      "name: messi\n",
      "age: 18\n",
      "address: jawlakhel\n",
      "{'name': ['messi', 'shyam', 'hari'], 'age': [18, 65, 18]}\n"
     ]
    }
   ],
   "source": [
    "# WAP to edit and delete above program\n",
    "data['name'][0]=\"messi\"\n",
    "data['age'][0]=18\n",
    "data['add'][0]= \"jawlakhel\"\n",
    "print(\"name:\",data['name'][0])\n",
    "print(\"age:\",data['age'][0])\n",
    "print(\"address:\",data['add'][0])\n",
    "\n",
    "#delete program\n",
    "del data['add']\n",
    "print(data)\n",
    "\n",
    "\n",
    "\n",
    "\n"
   ]
  },
  {
   "cell_type": "code",
   "execution_count": 36,
   "id": "ac1a42f5",
   "metadata": {},
   "outputs": [],
   "source": [
    "# dict inside dict\n",
    "data= {\n",
    "    'physics':{'ptr':25,'th':60},\n",
    "    'Chemistry':{'ptr':25,'th':60},\n",
    "    'MATH':68\n",
    "    \n",
    "    \n",
    "}\n",
    "\n"
   ]
  },
  {
   "cell_type": "code",
   "execution_count": 37,
   "id": "6dc5ae96",
   "metadata": {},
   "outputs": [
    {
     "name": "stdout",
     "output_type": "stream",
     "text": [
      "25\n",
      "{'ptr': 25, 'th': 60}\n",
      "68\n"
     ]
    }
   ],
   "source": [
    "print(data['physics']['ptr'])\n",
    "print(data['physics'])\n",
    "print(data['MATH'])"
   ]
  },
  {
   "cell_type": "code",
   "execution_count": 8,
   "id": "75137f7c",
   "metadata": {},
   "outputs": [
    {
     "name": "stdout",
     "output_type": "stream",
     "text": [
      "Sameer\n"
     ]
    }
   ],
   "source": [
    "# WAP to create dict inside dict by user with crud\n",
    "# college - student - student id, student name, teacher - teacher id, teacher name \n",
    "college = {\n",
    "    'student':{'studentid':1 ,'studentname': 'Sameer'},\n",
    "    'teacher':{'teacherid:':5, 'Teachername:': 'hari'},\n",
    "    'staff':{'staffid:':9,'Staffname':'Deeya'}\n",
    "\n",
    "}\n",
    "print(college['student']['studentname'])\n",
    "\n"
   ]
  },
  {
   "cell_type": "code",
   "execution_count": 1,
   "id": "4f4799e1",
   "metadata": {},
   "outputs": [
    {
     "name": "stdout",
     "output_type": "stream",
     "text": [
      "enter the number of the data2\n",
      "enter name sameer\n",
      "enter age 45\n",
      "enter address dhapakhel\n",
      "enter the j :student\n",
      "enter name tiger\n",
      "enter age 34\n",
      "enter address bardiya\n",
      "enter the j :animal\n",
      "{'student': {'name': 'sameer', 'age': '45', 'address': 'dhapakhel'}, 'animal': {'name': 'tiger', 'age': '34', 'address': 'bardiya'}}\n"
     ]
    }
   ],
   "source": [
    "data={}\n",
    "n = int(input(\"enter the number of the data\"))\n",
    "for i in range(1,n+1):\n",
    "    name = input(\"enter name \")\n",
    "    age = input(\"enter age \")\n",
    "    address = input(\"enter address \")\n",
    "    j = input(\"enter the j :\")\n",
    "    data[j]={'name':name, 'age':age, 'address':address}\n",
    "    \n",
    "print(data)    "
   ]
  },
  {
   "cell_type": "code",
   "execution_count": 4,
   "id": "ea7c6431",
   "metadata": {},
   "outputs": [
    {
     "data": {
      "text/plain": [
       "{1: {'name': 'sam', 'age': '23', 'address': 'asd'},\n",
       " 2: {'name': 'rem', 'age': '34', 'address': 'rete'},\n",
       " 3: {'name': 'Hari', 'age': 45, 'address': 'ghana'}}"
      ]
     },
     "execution_count": 4,
     "metadata": {},
     "output_type": "execute_result"
    }
   ],
   "source": [
    "# add\n",
    "data[3] = {'name':'Hari', 'age':45,'address':'ghana'}\n",
    "data"
   ]
  },
  {
   "cell_type": "code",
   "execution_count": 5,
   "id": "e300016d",
   "metadata": {},
   "outputs": [
    {
     "data": {
      "text/plain": [
       "{1: {'name': 'sam', 'age': '23', 'address': 'Dhapakhel'},\n",
       " 2: {'name': 'rem', 'age': '34', 'address': 'rete'},\n",
       " 3: {'name': 'Hari', 'age': 45, 'address': 'ghana'}}"
      ]
     },
     "execution_count": 5,
     "metadata": {},
     "output_type": "execute_result"
    }
   ],
   "source": [
    "# update\n",
    "data[1]['address']='Dhapakhel'\n",
    "data"
   ]
  },
  {
   "cell_type": "code",
   "execution_count": null,
   "id": "90e485eb",
   "metadata": {},
   "outputs": [],
   "source": []
  }
 ],
 "metadata": {
  "kernelspec": {
   "display_name": "Python 3 (ipykernel)",
   "language": "python",
   "name": "python3"
  },
  "language_info": {
   "codemirror_mode": {
    "name": "ipython",
    "version": 3
   },
   "file_extension": ".py",
   "mimetype": "text/x-python",
   "name": "python",
   "nbconvert_exporter": "python",
   "pygments_lexer": "ipython3",
   "version": "3.11.3"
  }
 },
 "nbformat": 4,
 "nbformat_minor": 5
}
