{
 "cells": [
  {
   "cell_type": "code",
   "execution_count": 1,
   "id": "8faf9d58",
   "metadata": {},
   "outputs": [],
   "source": [
    "# set\n",
    "# - noIndexing\n",
    "# -Multiple and no duplicate data\n",
    "# -unordered\n",
    "# -Mutable"
   ]
  },
  {
   "cell_type": "code",
   "execution_count": 2,
   "id": "ddd5134e",
   "metadata": {},
   "outputs": [
    {
     "name": "stdout",
     "output_type": "stream",
     "text": [
      "<class 'set'>\n",
      "{0, 1, 2, 3, 4, 5, 6, 7, 8, 9}\n"
     ]
    }
   ],
   "source": [
    "s = {1,2,3,4,5,6,7,8,9,0}\n",
    "print(type(s))\n",
    "print(s)"
   ]
  },
  {
   "cell_type": "code",
   "execution_count": 3,
   "id": "90996c87",
   "metadata": {},
   "outputs": [
    {
     "data": {
      "text/plain": [
       "set()"
      ]
     },
     "execution_count": 3,
     "metadata": {},
     "output_type": "execute_result"
    }
   ],
   "source": [
    "a = set()\n",
    "a"
   ]
  },
  {
   "cell_type": "code",
   "execution_count": 4,
   "id": "e563d9a0",
   "metadata": {},
   "outputs": [
    {
     "name": "stdout",
     "output_type": "stream",
     "text": [
      "{'fish', 'ball', 'Appple', 'Dog', 'Cat'}\n"
     ]
    },
    {
     "data": {
      "text/plain": [
       "{'Appple', 'Cat', 'Dog', 'ball', 'fish'}"
      ]
     },
     "execution_count": 4,
     "metadata": {},
     "output_type": "execute_result"
    }
   ],
   "source": [
    "a = {\"Appple\",\"ball\",\"Cat\",\"Dog\",\"fish\"}\n",
    "print(a)\n",
    "a\n"
   ]
  },
  {
   "cell_type": "code",
   "execution_count": 5,
   "id": "33c62ca3",
   "metadata": {},
   "outputs": [
    {
     "ename": "TypeError",
     "evalue": "'set' object is not subscriptable",
     "output_type": "error",
     "traceback": [
      "\u001b[1;31m---------------------------------------------------------------------------\u001b[0m",
      "\u001b[1;31mTypeError\u001b[0m                                 Traceback (most recent call last)",
      "Cell \u001b[1;32mIn[5], line 1\u001b[0m\n\u001b[1;32m----> 1\u001b[0m a[\u001b[38;5;241m0\u001b[39m]\n",
      "\u001b[1;31mTypeError\u001b[0m: 'set' object is not subscriptable"
     ]
    }
   ],
   "source": [
    "a[0]"
   ]
  },
  {
   "cell_type": "code",
   "execution_count": 6,
   "id": "de2ca0f4",
   "metadata": {},
   "outputs": [
    {
     "name": "stdout",
     "output_type": "stream",
     "text": [
      "fish\n",
      "ball\n",
      "Appple\n",
      "Dog\n",
      "Cat\n"
     ]
    }
   ],
   "source": [
    "a = {\"Appple\",\"ball\",\"Cat\",\"Dog\",\"fish\"}\n",
    "for i in a:\n",
    "    print(i)"
   ]
  },
  {
   "cell_type": "code",
   "execution_count": 9,
   "id": "d6930cdb",
   "metadata": {},
   "outputs": [
    {
     "data": {
      "text/plain": [
       "{'Appple', 'Cat', 'Dog', 'apple', 'ball', 'fish'}"
      ]
     },
     "execution_count": 9,
     "metadata": {},
     "output_type": "execute_result"
    }
   ],
   "source": [
    "a = {\"Appple\",\"ball\",\"Cat\",\"Dog\",\"fish\",\"fish\",\"apple\",\"Appple\",\"fish\",\"fish\"}#only unique\n",
    "a"
   ]
  },
  {
   "cell_type": "code",
   "execution_count": 10,
   "id": "6c884ba8",
   "metadata": {},
   "outputs": [],
   "source": [
    "# Set\n",
    "# add()\n",
    "# remove()\n",
    "# update()"
   ]
  },
  {
   "cell_type": "code",
   "execution_count": 12,
   "id": "a2488efb",
   "metadata": {},
   "outputs": [
    {
     "data": {
      "text/plain": [
       "{'Appple', 'cat'}"
      ]
     },
     "execution_count": 12,
     "metadata": {},
     "output_type": "execute_result"
    }
   ],
   "source": [
    "s =set()\n",
    "s.add(\"Appple\")\n",
    "s.add(\"cat\")\n",
    "s\n"
   ]
  },
  {
   "cell_type": "code",
   "execution_count": 14,
   "id": "af3a3685",
   "metadata": {},
   "outputs": [
    {
     "name": "stdout",
     "output_type": "stream",
     "text": [
      "{1, 2, 3, 4, 5, 6, 'Dog', 'fish', 'Appple', 'ball', 'Cat'}\n"
     ]
    }
   ],
   "source": [
    "a = {\"Appple\",\"ball\",\"Cat\",\"Dog\",\"fish\"}\n",
    "b = {1,2,3,4,5,6}\n",
    "a.update(b)\n",
    "print(a)"
   ]
  },
  {
   "cell_type": "code",
   "execution_count": null,
   "id": "b5bd90e4",
   "metadata": {},
   "outputs": [],
   "source": [
    "#WAP to create set taking values from users"
   ]
  },
  {
   "cell_type": "code",
   "execution_count": null,
   "id": "a5451036",
   "metadata": {},
   "outputs": [],
   "source": [
    "# intersection()\n",
    "# union()\n",
    "# difference()"
   ]
  },
  {
   "cell_type": "code",
   "execution_count": 20,
   "id": "1fb20dd5",
   "metadata": {},
   "outputs": [
    {
     "name": "stdout",
     "output_type": "stream",
     "text": [
      "{'java', 'django', 'python'}\n",
      "{'js', 'c++', 'php', 'java', 'django', 'html', 'css', 'python', 'c'}\n",
      "{'js', 'css', 'html', 'php'}\n",
      "{'c', 'c++'}\n"
     ]
    }
   ],
   "source": [
    "skills = {'python','php','django','html','css','java','js'}\n",
    "job = {'python','django','c','c++','java'}\n",
    "\n",
    "skills.intersection(job)#common value\n",
    "print(skills.intersection(job))\n",
    "\n",
    "skills.union(job)\n",
    "print(skills.union(job))\n",
    "\n",
    "# skills in you but not in job requirement\n",
    "skills.difference(job)\n",
    "print(skills.difference(job))\n",
    "\n",
    "#skills required for job\n",
    "job.difference(skills)\n",
    "print(job.difference(skills))"
   ]
  },
  {
   "cell_type": "code",
   "execution_count": 1,
   "id": "430749ce",
   "metadata": {},
   "outputs": [],
   "source": [
    "# WAP to create set taking values from users\n"
   ]
  },
  {
   "cell_type": "code",
   "execution_count": null,
   "id": "8fd3a957",
   "metadata": {},
   "outputs": [],
   "source": [
    "# # No mutable datatype inside set\n",
    "# inside set no list dict set"
   ]
  },
  {
   "cell_type": "code",
   "execution_count": 2,
   "id": "cdbb05ca",
   "metadata": {},
   "outputs": [
    {
     "ename": "TypeError",
     "evalue": "unhashable type: 'list'",
     "output_type": "error",
     "traceback": [
      "\u001b[1;31m---------------------------------------------------------------------------\u001b[0m",
      "\u001b[1;31mTypeError\u001b[0m                                 Traceback (most recent call last)",
      "Cell \u001b[1;32mIn[2], line 1\u001b[0m\n\u001b[1;32m----> 1\u001b[0m s \u001b[38;5;241m=\u001b[39m {[\u001b[38;5;241m1\u001b[39m,\u001b[38;5;241m2\u001b[39m,\u001b[38;5;241m3\u001b[39m],[\u001b[38;5;241m2\u001b[39m,\u001b[38;5;241m3\u001b[39m,\u001b[38;5;241m4\u001b[39m]}\n",
      "\u001b[1;31mTypeError\u001b[0m: unhashable type: 'list'"
     ]
    }
   ],
   "source": [
    "# inside set no list dict set\n",
    "# # No mutable datatype inside set\n",
    "s = {[1,2,3],[2,3,4]}"
   ]
  },
  {
   "cell_type": "code",
   "execution_count": 3,
   "id": "94146ae9",
   "metadata": {},
   "outputs": [
    {
     "ename": "TypeError",
     "evalue": "unhashable type: 'set'",
     "output_type": "error",
     "traceback": [
      "\u001b[1;31m---------------------------------------------------------------------------\u001b[0m",
      "\u001b[1;31mTypeError\u001b[0m                                 Traceback (most recent call last)",
      "Cell \u001b[1;32mIn[3], line 1\u001b[0m\n\u001b[1;32m----> 1\u001b[0m s\u001b[38;5;241m=\u001b[39m{{\u001b[38;5;241m1\u001b[39m,\u001b[38;5;241m2\u001b[39m,\u001b[38;5;241m3\u001b[39m},{\u001b[38;5;241m1\u001b[39m,\u001b[38;5;241m2\u001b[39m,\u001b[38;5;241m34\u001b[39m,\u001b[38;5;241m5\u001b[39m}}\n",
      "\u001b[1;31mTypeError\u001b[0m: unhashable type: 'set'"
     ]
    }
   ],
   "source": [
    "#no set inside set\n",
    "s={{1,2,3},{1,2,34,5}}"
   ]
  },
  {
   "cell_type": "code",
   "execution_count": 5,
   "id": "1a85588d",
   "metadata": {},
   "outputs": [
    {
     "data": {
      "text/plain": [
       "{(1, 2, 3), (3, 4, 5)}"
      ]
     },
     "execution_count": 5,
     "metadata": {},
     "output_type": "execute_result"
    }
   ],
   "source": [
    "s = {(1,2,3),(3,4,5)}\n",
    "s"
   ]
  },
  {
   "cell_type": "code",
   "execution_count": null,
   "id": "6990a362",
   "metadata": {},
   "outputs": [],
   "source": []
  }
 ],
 "metadata": {
  "kernelspec": {
   "display_name": "Python 3 (ipykernel)",
   "language": "python",
   "name": "python3"
  },
  "language_info": {
   "codemirror_mode": {
    "name": "ipython",
    "version": 3
   },
   "file_extension": ".py",
   "mimetype": "text/x-python",
   "name": "python",
   "nbconvert_exporter": "python",
   "pygments_lexer": "ipython3",
   "version": "3.11.3"
  }
 },
 "nbformat": 4,
 "nbformat_minor": 5
}
