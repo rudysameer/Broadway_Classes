{
 "cells": [
  {
   "cell_type": "code",
   "execution_count": null,
   "id": "ca1c88bb",
   "metadata": {},
   "outputs": [],
   "source": [
    "# class Hello:\n",
    "#     <methords>\n",
    "#     <methords>\n",
    "#     <methords>\n",
    "    \n",
    "# obj = hello()\n",
    "# obj.<methords>\n",
    "# obj.<methords>\n",
    "# obj.<methords>"
   ]
  },
  {
   "cell_type": "code",
   "execution_count": 7,
   "id": "b598dbd9",
   "metadata": {},
   "outputs": [
    {
     "name": "stdout",
     "output_type": "stream",
     "text": [
      "hello world\n"
     ]
    }
   ],
   "source": [
    "class Hello:                           #class\n",
    "    def hello(self):                       #methord\n",
    "        print(\"hello world\")\n",
    "obj = Hello()                          #object\n",
    "obj.hello()                             #initializing the class"
   ]
  },
  {
   "cell_type": "code",
   "execution_count": 12,
   "id": "53b8f477",
   "metadata": {},
   "outputs": [
    {
     "name": "stdout",
     "output_type": "stream",
     "text": [
      "hello world\n"
     ]
    }
   ],
   "source": [
    "class Hello:\n",
    "    @staticmethod #decorator\n",
    "    def hello():\n",
    "        print(\"hello world\")\n",
    "        \n",
    "        \n",
    "obj = Hello()\n",
    "obj.hello()"
   ]
  },
  {
   "cell_type": "code",
   "execution_count": 5,
   "id": "9bc104ba",
   "metadata": {},
   "outputs": [
    {
     "name": "stdout",
     "output_type": "stream",
     "text": [
      "50\n"
     ]
    }
   ],
   "source": [
    "class Area:\n",
    "    @staticmethod\n",
    "    def area(l,b):\n",
    "        a = l*b\n",
    "        print(a)\n",
    "        \n",
    "obj = Area()\n",
    "obj.area(10,5)\n",
    "\n",
    "        \n",
    "        \n",
    "        "
   ]
  },
  {
   "cell_type": "code",
   "execution_count": 2,
   "id": "d363ad4e",
   "metadata": {},
   "outputs": [
    {
     "name": "stdout",
     "output_type": "stream",
     "text": [
      "50\n",
      "300\n"
     ]
    }
   ],
   "source": [
    "class Cal:\n",
    "    @staticmethod\n",
    "    def area(l,b):\n",
    "        a = l*b\n",
    "        print(a)\n",
    "    @staticmethod    \n",
    "    def volume(l,b,h):\n",
    "        v = l*b*h\n",
    "        print(v)\n",
    "obj = Cal()\n",
    "obj.area(10,5)\n",
    "obj.volume(10,5,6)\n",
    "\n",
    "        \n",
    "        \n",
    "        "
   ]
  },
  {
   "cell_type": "code",
   "execution_count": 3,
   "id": "a3da1f44",
   "metadata": {},
   "outputs": [
    {
     "name": "stdout",
     "output_type": "stream",
     "text": [
      "50\n",
      "100\n"
     ]
    }
   ],
   "source": [
    "class Cal:\n",
    "    def __init__(self,l,b,h):\n",
    "        self.l = l\n",
    "        self.b = b\n",
    "        self.height = h\n",
    "        \n",
    "    def area(self):\n",
    "        a = self.l*self.b\n",
    "        print(a)\n",
    "        \n",
    "    def volume(self):\n",
    "        v = self.l*self.b*self.height \n",
    "        print(v)\n",
    "obj = Cal(10,5,2)  \n",
    "obj.area()\n",
    "obj.volume()\n",
    "    "
   ]
  },
  {
   "cell_type": "code",
   "execution_count": null,
   "id": "367fe21e",
   "metadata": {},
   "outputs": [],
   "source": [
    "class Info:\n",
    "    def __init__(self,name,age,add):\n",
    "        self.name = name\n",
    "        self.age = age\n",
    "        self.add = add\n",
    "        \n",
    "    def info(self):\n",
    "        print(f\" Hello ia am {self.name}. from {self.add} age of {self.age}\")\n",
    "        \n",
    "name = input(\"enter name\")\n",
    "age  = int(input(\"enter age\"))\n",
    "add = input(\"enter address\")\n",
    "\n",
    "obj = Info(name,age,add)\n",
    "obj.info()"
   ]
  },
  {
   "cell_type": "code",
   "execution_count": null,
   "id": "9b1d4aaf",
   "metadata": {},
   "outputs": [],
   "source": []
  }
 ],
 "metadata": {
  "kernelspec": {
   "display_name": "Python 3 (ipykernel)",
   "language": "python",
   "name": "python3"
  },
  "language_info": {
   "codemirror_mode": {
    "name": "ipython",
    "version": 3
   },
   "file_extension": ".py",
   "mimetype": "text/x-python",
   "name": "python",
   "nbconvert_exporter": "python",
   "pygments_lexer": "ipython3",
   "version": "3.11.3"
  }
 },
 "nbformat": 4,
 "nbformat_minor": 5
}
