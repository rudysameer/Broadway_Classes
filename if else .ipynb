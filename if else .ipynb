{
 "cells": [
  {
   "cell_type": "code",
   "execution_count": 1,
   "id": "0b37a319",
   "metadata": {},
   "outputs": [
    {
     "ename": "SyntaxError",
     "evalue": "invalid syntax (866196770.py, line 1)",
     "output_type": "error",
     "traceback": [
      "\u001b[1;36m  Cell \u001b[1;32mIn[1], line 1\u001b[1;36m\u001b[0m\n\u001b[1;33m    if <condition>:\u001b[0m\n\u001b[1;37m       ^\u001b[0m\n\u001b[1;31mSyntaxError\u001b[0m\u001b[1;31m:\u001b[0m invalid syntax\n"
     ]
    }
   ],
   "source": [
    "#if <condition>:\n",
    "#   <operation>\n",
    "#elif <condition>\n",
    " #   <operation>\n",
    "#....\n",
    "#else:\n",
    " #   <operation>\n",
    "    "
   ]
  },
  {
   "cell_type": "code",
   "execution_count": 2,
   "id": "8600d7fe",
   "metadata": {},
   "outputs": [],
   "source": [
    "#<> <= == !=\n",
    "#comparison operator"
   ]
  },
  {
   "cell_type": "code",
   "execution_count": 4,
   "id": "82fe9929",
   "metadata": {},
   "outputs": [
    {
     "name": "stdout",
     "output_type": "stream",
     "text": [
      "enter age10\n",
      "the age is not enouugh\n"
     ]
    }
   ],
   "source": [
    "age = int(input(\"enter age\"))\n",
    "if age >=18:\n",
    "    print(\"you are an adult you have voting right.\")\n",
    "    \n",
    "else:\n",
    "    print(\"the age is not enouugh\")"
   ]
  },
  {
   "cell_type": "code",
   "execution_count": 7,
   "id": "8e3ea484",
   "metadata": {},
   "outputs": [
    {
     "name": "stdout",
     "output_type": "stream",
     "text": [
      "enter the value0\n",
      "the value of a is even\n"
     ]
    }
   ],
   "source": [
    "a = int(input(\"enter the value\"))\n",
    "if a%2 == 0:\n",
    "    print(\"the value of a is even\")\n",
    "else:\n",
    "    print(\"the no is odd\")"
   ]
  },
  {
   "cell_type": "markdown",
   "id": "7afccd97",
   "metadata": {},
   "source": []
  },
  {
   "cell_type": "code",
   "execution_count": 11,
   "id": "1fcfafea",
   "metadata": {},
   "outputs": [
    {
     "name": "stdout",
     "output_type": "stream",
     "text": [
      "enter the value of a2\n",
      "enter the value of b5\n",
      "b is greater than 2\n"
     ]
    }
   ],
   "source": [
    "a = int(input(\"enter the value of a\"))\n",
    "b = int(input(\"enter the value of b\"))\n",
    "if a>b:\n",
    "    print( a,\" is greater\")\n",
    "elif b>a:\n",
    "    print(\"b is greater than\",a)\n",
    "else:\n",
    "    print(\"both are equeal\")"
   ]
  },
  {
   "cell_type": "code",
   "execution_count": 13,
   "id": "f1c0a352",
   "metadata": {},
   "outputs": [
    {
     "name": "stdout",
     "output_type": "stream",
     "text": [
      "enter phycis marks = 56\n",
      "enter bio marks = 90\n",
      "enter math marks = 99\n",
      "enter english marks99\n",
      "the percentage of total is  86.0\n",
      "the total marks is  344\n",
      "A\n"
     ]
    }
   ],
   "source": [
    "p = int(input(\"enter phycis marks = \"))\n",
    "b = int(input(\"enter bio marks = \"))\n",
    "m = int(input(\"enter math marks = \"))\n",
    "e = int(input(\"enter english marks\"))\n",
    "total = p+b+m+e\n",
    "percentage = total*100/400\n",
    "print(\"the percentage of total is \",percentage)\n",
    "print(\"the total marks is \", total)\n",
    "\n",
    "if (percentage==90) or (percentage>90):\n",
    "    print(\"A+\")\n",
    "    \n",
    "elif (percentage==80) or (percentage>80):\n",
    "    print(\"A\")\n",
    "\n",
    "elif percentage>=70:\n",
    "    print(\"B+\")\n",
    "    \n",
    "elif percentage>=60:\n",
    "    print(\"B\")\n",
    "    \n",
    "elif percentage>=50:\n",
    "    print(\"C+\")    \n",
    "    \n",
    "else:\n",
    "    print(\"fail\")\n",
    "    "
   ]
  },
  {
   "cell_type": "code",
   "execution_count": 3,
   "id": "96baac1e",
   "metadata": {},
   "outputs": [
    {
     "name": "stdout",
     "output_type": "stream",
     "text": [
      "enter a 67\n",
      "enter b 65\n",
      "enter + or - or *or /+\n",
      "132.0\n"
     ]
    }
   ],
   "source": [
    "a = float(input(\"enter a \"))\n",
    "b = float(input(\"enter b \"))\n",
    "o = input(\"enter + or - or *or /\")\n",
    "if o == \"+\":\n",
    "    print(a+b)\n",
    "elif o == \"-\":\n",
    "    print(a-b)\n",
    "elif o == \"*\":\n",
    "    print(a*b)\n",
    "elif o == \"/\":\n",
    "    print(a/b)\n",
    "else:\n",
    "    print(\"invalid\")\n",
    "    \n",
    "\n",
    "\n",
    "\n"
   ]
  },
  {
   "cell_type": "code",
   "execution_count": 4,
   "id": "0ddb072a",
   "metadata": {},
   "outputs": [
    {
     "ename": "SyntaxError",
     "evalue": "cannot assign to expression here. Maybe you meant '==' instead of '='? (2652811935.py, line 3)",
     "output_type": "error",
     "traceback": [
      "\u001b[1;36m  Cell \u001b[1;32mIn[4], line 3\u001b[1;36m\u001b[0m\n\u001b[1;33m    1*0=0\u001b[0m\n\u001b[1;37m    ^\u001b[0m\n\u001b[1;31mSyntaxError\u001b[0m\u001b[1;31m:\u001b[0m cannot assign to expression here. Maybe you meant '==' instead of '='?\n"
     ]
    }
   ],
   "source": [
    "#logical operator\n",
    "# and = &\n",
    "1*0=0\n",
    "1*1=1\n",
    "0*1=0\n",
    "\n",
    "\n",
    "#or|\n",
    "0+0=0\n",
    "1+0=1\n",
    "1+1=1\n",
    "0+1=1\n",
    "\n"
   ]
  },
  {
   "cell_type": "code",
   "execution_count": 5,
   "id": "6e2d0663",
   "metadata": {},
   "outputs": [
    {
     "name": "stdout",
     "output_type": "stream",
     "text": [
      "True\n",
      "False\n",
      "False\n",
      "False\n"
     ]
    }
   ],
   "source": [
    "print(True and True)\n",
    "print(True and False)\n",
    "print(False and True)\n",
    "print(False and False)"
   ]
  },
  {
   "cell_type": "code",
   "execution_count": 6,
   "id": "7a5c1c62",
   "metadata": {},
   "outputs": [
    {
     "name": "stdout",
     "output_type": "stream",
     "text": [
      "True\n",
      "True\n",
      "True\n",
      "False\n"
     ]
    }
   ],
   "source": [
    "print(True or True)\n",
    "print(True or False)\n",
    "print(False or True)\n",
    "print(False or False)"
   ]
  },
  {
   "cell_type": "code",
   "execution_count": 11,
   "id": "33f9fca2",
   "metadata": {},
   "outputs": [
    {
     "name": "stdout",
     "output_type": "stream",
     "text": [
      "enter the value a-9\n",
      "-9  is negative and odd \n"
     ]
    }
   ],
   "source": [
    "a = int(input(\"enter the value a\"))\n",
    "if a>=0 and a%2==0:\n",
    "    print(a,\"is positive and even\")\n",
    "    \n",
    "elif a>=0 and a%2 != 0:\n",
    "    print(a,\" is positive and odd \")\n",
    "elif a<=0 and a%2 == 0:\n",
    "    print(a,\" is negative and even \")    \n",
    "elif a<=0 and a%2 != 0:\n",
    "    print(a,\" is negative and odd \")\n",
    "else:\n",
    "    print(\"invalid\")"
   ]
  },
  {
   "cell_type": "code",
   "execution_count": null,
   "id": "d1699333",
   "metadata": {},
   "outputs": [],
   "source": [
    "# #nested if else\n",
    "# if<condition>:\n",
    "#     if<condition>:\n",
    "#         <operation>\n",
    "#      else:\n",
    "#         <operation>\n",
    "# else:\n",
    "#     if<condition>:\n",
    "#         <operation>\n",
    "#      else:\n",
    "#        <operation>\n",
    "        "
   ]
  },
  {
   "cell_type": "code",
   "execution_count": 14,
   "id": "5f8ff3a7",
   "metadata": {},
   "outputs": [
    {
     "name": "stdout",
     "output_type": "stream",
     "text": [
      "enter a 19\n",
      "enter b 0\n",
      "enter + or - or *or //\n",
      "the value is undefined\n"
     ]
    }
   ],
   "source": [
    "a = float(input(\"enter a \"))\n",
    "b = float(input(\"enter b \"))\n",
    "o = input(\"enter + or - or *or /\")\n",
    "if o == \"+\":\n",
    "    print(a+b)\n",
    "elif o == \"-\":\n",
    "    print(a-b)\n",
    "elif o == \"*\":\n",
    "    print(a*b)\n",
    "elif o == \"/\":\n",
    "    if b!=0 :\n",
    "        print(a/b)\n",
    "    else:\n",
    "        print(\"the value of b cannot be 0 and is undefined\")\n",
    "    \n",
    "else:\n",
    "    print(\"invalid\")\n",
    "    \n",
    "\n",
    "\n",
    "\n"
   ]
  },
  {
   "cell_type": "code",
   "execution_count": 16,
   "id": "82af91e4",
   "metadata": {},
   "outputs": [
    {
     "name": "stdout",
     "output_type": "stream",
     "text": [
      "enter a 7\n",
      "enter b 2\n",
      "enter + or - or *or //\n",
      "3.5\n"
     ]
    }
   ],
   "source": [
    "a = float(input(\"enter a \"))\n",
    "b = float(input(\"enter b \"))\n",
    "o = input(\"enter + or - or *or /\")\n",
    "if o == \"+\":\n",
    "    print(a+b)\n",
    "elif o == \"-\":\n",
    "    print(a-b)\n",
    "elif o == \"*\":\n",
    "    print(a*b)\n",
    "elif o == \"/\" and b!=0:\n",
    "    print(a/b)\n",
    "elif o == \"/\" and b==0:\n",
    "    print(\"the value of b cannot be 0 and is undefined\")\n",
    "    \n",
    "else:\n",
    "    print(\"invalid\")\n",
    "    \n",
    "\n",
    "\n",
    "\n"
   ]
  },
  {
   "cell_type": "code",
   "execution_count": 26,
   "id": "2ff68b1a",
   "metadata": {},
   "outputs": [
    {
     "name": "stdout",
     "output_type": "stream",
     "text": [
      "enter the value a6\n",
      "6 is positive and even\n"
     ]
    }
   ],
   "source": [
    "a = int(input(\"enter the value a\"))\n",
    "if a%2==0 :\n",
    "    if a>=0:\n",
    "        print(a,\"is positive and even\")\n",
    "    \n",
    "    else:\n",
    "        print(a,\" is positive and odd \")\n",
    "        \n",
    "else :\n",
    "    if a%2==0:\n",
    "        print(a,\" is negative and even \")    \n",
    "    else:\n",
    "        print(a,\" is negative and odd \")\n"
   ]
  },
  {
   "cell_type": "code",
   "execution_count": null,
   "id": "70814b12",
   "metadata": {},
   "outputs": [],
   "source": []
  },
  {
   "cell_type": "code",
   "execution_count": null,
   "id": "3598c645",
   "metadata": {},
   "outputs": [],
   "source": []
  }
 ],
 "metadata": {
  "kernelspec": {
   "display_name": "Python 3 (ipykernel)",
   "language": "python",
   "name": "python3"
  },
  "language_info": {
   "codemirror_mode": {
    "name": "ipython",
    "version": 3
   },
   "file_extension": ".py",
   "mimetype": "text/x-python",
   "name": "python",
   "nbconvert_exporter": "python",
   "pygments_lexer": "ipython3",
   "version": "3.11.3"
  }
 },
 "nbformat": 4,
 "nbformat_minor": 5
}
