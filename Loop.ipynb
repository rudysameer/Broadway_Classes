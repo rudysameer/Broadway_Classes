{
 "cells": [
  {
   "cell_type": "code",
   "execution_count": 1,
   "id": "8c52c141",
   "metadata": {},
   "outputs": [],
   "source": [
    "# loop\n",
    "# for loop\n",
    "# while loop"
   ]
  },
  {
   "cell_type": "code",
   "execution_count": 2,
   "id": "23a57890",
   "metadata": {},
   "outputs": [],
   "source": [
    "# range(5)           0,1,2,3,4  for(i=0; i<5; i++)\n",
    "# range(1,5)         1,2,3,4\n",
    "# range(1,10,2)      1,3,5,7,9,"
   ]
  },
  {
   "cell_type": "code",
   "execution_count": 4,
   "id": "6c8b36e5",
   "metadata": {},
   "outputs": [
    {
     "name": "stdout",
     "output_type": "stream",
     "text": [
      "1 Hello world\n",
      "2 Hello world\n",
      "3 Hello world\n",
      "4 Hello world\n",
      "5 Hello world\n"
     ]
    }
   ],
   "source": [
    "for i in range(5):\n",
    "    print(i+1,\"Hello world\")"
   ]
  },
  {
   "cell_type": "code",
   "execution_count": 6,
   "id": "4c54bc1b",
   "metadata": {},
   "outputs": [
    {
     "name": "stdout",
     "output_type": "stream",
     "text": [
      "1 Hello world\n",
      "2 Hello world\n",
      "3 Hello world\n",
      "4 Hello world\n"
     ]
    }
   ],
   "source": [
    "for i in range(1,5):\n",
    "    print(i,\"Hello world\")"
   ]
  },
  {
   "cell_type": "code",
   "execution_count": 7,
   "id": "464a84e3",
   "metadata": {},
   "outputs": [
    {
     "name": "stdout",
     "output_type": "stream",
     "text": [
      "1 Hello world\n",
      "3 Hello world\n",
      "5 Hello world\n",
      "7 Hello world\n",
      "9 Hello world\n"
     ]
    }
   ],
   "source": [
    "for i in range(1,10,2):\n",
    "    print(i,\"Hello world\")"
   ]
  },
  {
   "cell_type": "code",
   "execution_count": 11,
   "id": "17036c91",
   "metadata": {},
   "outputs": [
    {
     "name": "stdout",
     "output_type": "stream",
     "text": [
      "enter n = 4\n",
      "4 * 1  = 4\n",
      "4 * 2  = 8\n",
      "4 * 3  = 12\n",
      "4 * 4  = 16\n",
      "4 * 5  = 20\n",
      "4 * 6  = 24\n",
      "4 * 7  = 28\n",
      "4 * 8  = 32\n",
      "4 * 9  = 36\n",
      "4 * 10  = 40\n"
     ]
    }
   ],
   "source": [
    "n = int(input(\"enter n = \"))\n",
    "for i in range(1,11):\n",
    "    print(n,\"*\",i,\" =\",n*i)"
   ]
  },
  {
   "cell_type": "code",
   "execution_count": 19,
   "id": "5dd6b2dd",
   "metadata": {},
   "outputs": [
    {
     "name": "stdout",
     "output_type": "stream",
     "text": [
      "enter n = 2\n",
      "enter x =1\n",
      "1\n",
      "enter x =2\n",
      "3\n"
     ]
    }
   ],
   "source": [
    "s=0\n",
    "n= int(input(\"enter n = \"))\n",
    "for i in range(n):\n",
    "    x = int(input(\"enter x =\"))\n",
    "    s=s+x\n",
    "    print(s)    \n",
    "    "
   ]
  },
  {
   "cell_type": "markdown",
   "id": "d83d50ac",
   "metadata": {},
   "source": []
  },
  {
   "cell_type": "code",
   "execution_count": 26,
   "id": "eda2f472",
   "metadata": {},
   "outputs": [
    {
     "name": "stdout",
     "output_type": "stream",
     "text": [
      "enter n = 2\n",
      "enter x =app\n",
      "enter x =le\n",
      "app/n le/n \n"
     ]
    }
   ],
   "source": [
    "s=\"\"\n",
    "n= int(input(\"enter n = \"))\n",
    "for i in range(n):\n",
    "    x = input(\"enter x =\")\n",
    "    s=s+x+\"  \"\n",
    "print(s)     "
   ]
  },
  {
   "cell_type": "code",
   "execution_count": 32,
   "id": "74b804e8",
   "metadata": {},
   "outputs": [
    {
     "name": "stdout",
     "output_type": "stream",
     "text": [
      "enter n2\n",
      "enter name sam\n",
      "enter number 123\n",
      "enter name ewm\n",
      "enter number 456\n",
      "sam 123\n",
      "ewm 456\n",
      "\n"
     ]
    }
   ],
   "source": [
    "s = \"\"\n",
    "n = int(input(\"enter n\"))\n",
    "for i in range(n):\n",
    "    x = input(\"enter name \")\n",
    "    y = input(\"enter number \")\n",
    "    s = s + x + \" \"+ y +'\\n'\n",
    "print(s)"
   ]
  },
  {
   "cell_type": "code",
   "execution_count": 35,
   "id": "342c2511",
   "metadata": {},
   "outputs": [
    {
     "name": "stdout",
     "output_type": "stream",
     "text": [
      "enter n5\n",
      "1\n",
      "2\n",
      "6\n",
      "24\n",
      "120\n"
     ]
    }
   ],
   "source": [
    "fact = 1\n",
    "n = int(input(\"enter n\"))\n",
    "for i in range(1,n+1):\n",
    "    fact = fact*i\n",
    "    print(fact)    \n",
    "    "
   ]
  },
  {
   "cell_type": "code",
   "execution_count": 1,
   "id": "4814a8fe",
   "metadata": {},
   "outputs": [
    {
     "name": "stdout",
     "output_type": "stream",
     "text": [
      "enter the  total number types of goods2\n",
      "enter the name of good :apple\n",
      "enter the a unit price of the good :3\n",
      "enter the total quantity of the goods :4\n",
      "Unit price of apple  =Rs.  3 \n",
      "quantity is=  4 \n",
      "total = RS.  12 \n",
      "\n",
      "enter the name of good :bananana\n",
      "enter the a unit price of the good :100\n",
      "enter the total quantity of the goods :1\n",
      "Unit price of bananana  =Rs.  100 \n",
      "quantity is=  1 \n",
      "total = RS.  100 \n",
      "\n",
      "The grand total amount is Rs.  112\n"
     ]
    }
   ],
   "source": [
    "# WAp to create a billing system\n",
    "# name\n",
    "# price\n",
    "# qty\n",
    "# total\n",
    "# grand total\n",
    "grand_total = 0\n",
    "goods = int(input(\"enter the  total number types of goods\"))\n",
    "for i in range(1,goods+1):\n",
    "    name = input(\"enter the name of good :\")\n",
    "    price = int(input(\"enter the a unit price of the good :\"))\n",
    "    quantity = int(input(\"enter the total quantity of the goods :\"))\n",
    "    total = price * quantity\n",
    "    grand_total = grand_total + total\n",
    "    print(\"Unit price of\",name,\" =Rs. \",price,\"\\nquantity is= \",quantity,\"\\ntotal = RS. \",total, \"\\n\")\n",
    "print(\"The grand total amount is Rs. \",grand_total)    \n",
    "    \n",
    "    "
   ]
  },
  {
   "cell_type": "code",
   "execution_count": 1,
   "id": "74e38271",
   "metadata": {},
   "outputs": [
    {
     "name": "stdout",
     "output_type": "stream",
     "text": [
      "enter the  total number types of goods2\n",
      "enter the name of good :applw\n",
      "enter the a unit price of the good :12\n",
      "enter the total quantity of the goods :12\n",
      "applw price is 12 quantity is12 total is 144\n",
      "\n",
      "enter the name of good :qdlkq\n",
      "enter the a unit price of the good :12\n",
      "enter the total quantity of the goods :12\n",
      "applw price is 12 quantity is12 total is 144\n",
      "qdlkq price is 12 quantity is12 total is 144\n",
      "\n",
      "The grand total amount is Rs.  288\n"
     ]
    }
   ],
   "source": [
    "bill = \"\"\n",
    "grand_total = 0\n",
    "goods = int(input(\"enter the  total number types of goods\"))\n",
    "for i in range(1,goods+1):\n",
    "    name = input(\"enter the name of good :\")\n",
    "    price = int(input(\"enter the a unit price of the good :\"))\n",
    "    quantity = int(input(\"enter the total quantity of the goods :\"))\n",
    "    total = price * quantity\n",
    "    bill = bill + name+ \" price is \"+str(price)+ \" quantity is\" + str(quantity) + \" total is \" + str(total)+ \"\\n\"\n",
    "    grand_total = grand_total + total\n",
    "print(bill)\n",
    "print(\"The grand total amount is Rs. \",grand_total)    \n",
    "    "
   ]
  },
  {
   "cell_type": "code",
   "execution_count": 2,
   "id": "88424bf3",
   "metadata": {},
   "outputs": [
    {
     "name": "stdout",
     "output_type": "stream",
     "text": [
      "a hello \n",
      "p hello \n",
      "p hello \n",
      "l hello \n",
      "e hello \n"
     ]
    }
   ],
   "source": [
    "# for loop in str\n",
    "a = \"apple\"\n",
    "for i in a:\n",
    "    print(i,\"hello \")"
   ]
  },
  {
   "cell_type": "code",
   "execution_count": 4,
   "id": "1ed37673",
   "metadata": {},
   "outputs": [
    {
     "name": "stdout",
     "output_type": "stream",
     "text": [
      "hello world i am python"
     ]
    }
   ],
   "source": [
    "a = \"hello world. i am python.\"\n",
    "for i in a:\n",
    "    if i!= \".\": \n",
    "        print(i,end = \"\")"
   ]
  },
  {
   "cell_type": "code",
   "execution_count": 5,
   "id": "539b888d",
   "metadata": {},
   "outputs": [],
   "source": [
    "# control statement\n",
    "# continue\n",
    "# break\n",
    "\n"
   ]
  },
  {
   "cell_type": "code",
   "execution_count": 8,
   "id": "b40bba8a",
   "metadata": {},
   "outputs": [
    {
     "name": "stdout",
     "output_type": "stream",
     "text": [
      "0\n",
      "1\n",
      "2\n",
      "3\n",
      "4\n"
     ]
    }
   ],
   "source": [
    "for i in range(10):\n",
    "    if i ==5:\n",
    "        break\n",
    "    print(i)    "
   ]
  },
  {
   "cell_type": "code",
   "execution_count": 4,
   "id": "5ee36e59",
   "metadata": {},
   "outputs": [
    {
     "name": "stdout",
     "output_type": "stream",
     "text": [
      "hello world i am python"
     ]
    }
   ],
   "source": [
    "a = \"hello world. i am python.\"\n",
    "for i in a:\n",
    "    if i == \".\": \n",
    "        continue\n",
    "    print(i,end = \"\")"
   ]
  },
  {
   "cell_type": "code",
   "execution_count": 5,
   "id": "67034ab7",
   "metadata": {},
   "outputs": [
    {
     "name": "stdout",
     "output_type": "stream",
     "text": [
      "hello world"
     ]
    }
   ],
   "source": [
    "a = \"hello world. i am python.\"\n",
    "for i in a:\n",
    "    if i == \".\": \n",
    "        break\n",
    "    print(i,end = \"\")"
   ]
  },
  {
   "cell_type": "code",
   "execution_count": 6,
   "id": "de53876a",
   "metadata": {},
   "outputs": [
    {
     "name": "stdout",
     "output_type": "stream",
     "text": [
      "0\n",
      "1\n",
      "2\n",
      "3\n",
      "4\n",
      "6\n",
      "7\n",
      "8\n",
      "9\n"
     ]
    }
   ],
   "source": [
    "for i in range(10):\n",
    "    if i ==5:\n",
    "        continue\n",
    "    print(i)    "
   ]
  },
  {
   "cell_type": "code",
   "execution_count": 17,
   "id": "2583bc92",
   "metadata": {},
   "outputs": [
    {
     "name": "stdout",
     "output_type": "stream",
     "text": [
      "enter the number27\n",
      "27  is prime number\n"
     ]
    }
   ],
   "source": [
    "# wap to detect if the given number is prime or composite\n",
    "# prime = 2,3,5,7,11,13\n",
    "# composite = 4,6,8,9,10\n",
    "\n",
    "\n",
    "number = int(input(\"enter the number\"))\n",
    "if(number%2==1):\n",
    "    print(number,\" is prime number\")\n",
    "    \n",
    "else:\n",
    "    print(number,\" is composite number\")\n",
    "\n"
   ]
  },
  {
   "cell_type": "code",
   "execution_count": 20,
   "id": "9a69fb69",
   "metadata": {},
   "outputs": [
    {
     "name": "stdout",
     "output_type": "stream",
     "text": [
      "enter n = 11\n",
      "11  is prime number\n"
     ]
    }
   ],
   "source": [
    "n = int(input(\"enter n = \"))\n",
    "for i in range(2,n):\n",
    "    if n%i== 0:\n",
    "        print(n,\" is composite number\")\n",
    "        break\n",
    "else:\n",
    "    print(n,\" is prime number\")\n",
    "        "
   ]
  },
  {
   "cell_type": "code",
   "execution_count": null,
   "id": "97049311",
   "metadata": {},
   "outputs": [],
   "source": [
    "# while <condition>:\n",
    "#     <operation>"
   ]
  },
  {
   "cell_type": "code",
   "execution_count": 2,
   "id": "4b4d7f5d",
   "metadata": {},
   "outputs": [
    {
     "name": "stdout",
     "output_type": "stream",
     "text": [
      "0 hello world\n",
      "1 hello world\n",
      "2 hello world\n",
      "3 hello world\n",
      "4 hello world\n"
     ]
    }
   ],
   "source": [
    "a = 0\n",
    "while a<5:\n",
    "    print(a,\"hello world\")\n",
    "    a = a+1"
   ]
  },
  {
   "cell_type": "code",
   "execution_count": 3,
   "id": "fd36a7d5",
   "metadata": {},
   "outputs": [
    {
     "name": "stdout",
     "output_type": "stream",
     "text": [
      "5 hello world\n",
      "4 hello world\n",
      "3 hello world\n",
      "2 hello world\n",
      "1 hello world\n",
      "0 hello world\n"
     ]
    }
   ],
   "source": [
    "a = 5\n",
    "while a>=0:\n",
    "    print(a,\"hello world\")\n",
    "    a = a-1"
   ]
  },
  {
   "cell_type": "code",
   "execution_count": 4,
   "id": "2eadc03c",
   "metadata": {},
   "outputs": [
    {
     "name": "stdout",
     "output_type": "stream",
     "text": [
      "enter the value of n2\n",
      "2  * 1  =  2\n",
      "2  * 2  =  4\n",
      "2  * 3  =  6\n",
      "2  * 4  =  8\n",
      "2  * 5  =  10\n",
      "2  * 6  =  12\n",
      "2  * 7  =  14\n",
      "2  * 8  =  16\n",
      "2  * 9  =  18\n",
      "2  * 10  =  20\n"
     ]
    }
   ],
   "source": [
    "i = 1\n",
    "n = int(input(\"enter the value of n\"))\n",
    "while i<=10:\n",
    "    print(n,\" *\",i, \" = \",n*i)\n",
    "    i= i +1;\n"
   ]
  },
  {
   "cell_type": "code",
   "execution_count": 2,
   "id": "32b0ec6f",
   "metadata": {},
   "outputs": [
    {
     "name": "stdout",
     "output_type": "stream",
     "text": [
      "enter the number of value3\n",
      "enter a1\n",
      "1\n",
      "enter a2\n",
      "3\n",
      "enter a3\n",
      "6\n"
     ]
    }
   ],
   "source": [
    "i=0\n",
    "s=0\n",
    "\n",
    "n= int(input(\"enter the number of value\"))\n",
    "while i<n:\n",
    "    a = int(input(\"enter a\"))\n",
    "    s=s+a\n",
    "    i = i+1\n",
    "print(s)    "
   ]
  },
  {
   "cell_type": "code",
   "execution_count": 2,
   "id": "c00a2fc0",
   "metadata": {},
   "outputs": [
    {
     "name": "stdout",
     "output_type": "stream",
     "text": [
      "enter the number5\n",
      "120\n"
     ]
    }
   ],
   "source": [
    "fac = 1\n",
    "i = 1\n",
    "n = int(input(\"enter the number\"))\n",
    "while i<=n:\n",
    "    fac=fac*i\n",
    "    i=i+1\n",
    "print(fac)"
   ]
  },
  {
   "cell_type": "code",
   "execution_count": 5,
   "id": "1792b018",
   "metadata": {},
   "outputs": [
    {
     "name": "stdout",
     "output_type": "stream",
     "text": [
      "enter n3\n",
      "enter namesam\n",
      "enter price12\n",
      "enter quantity12\n",
      "enter nameram\n",
      "enter price12\n",
      "enter quantity12\n",
      "enter namerem\n",
      "enter price12\n",
      "enter quantity12\n",
      "sam price is 12 quantity is12 total is 144\n",
      "ram price is 12 quantity is12 total is 144\n",
      "rem price is 12 quantity is12 total is 144\n",
      "\n",
      "The grand total amount is Rs.  432\n"
     ]
    }
   ],
   "source": [
    "i=0\n",
    "bill = \"\"\n",
    "grand_total = 0\n",
    "n = int(input(\"enter n\"))\n",
    "while i<n:\n",
    "    name = input(\"enter name\")\n",
    "    price = int(input(\"enter price\"))\n",
    "    quantity = int(input(\"enter quantity\"))\n",
    "    total = price * qty\n",
    "    bill = bill + name+ \" price is \"+str(price)+ \" quantity is\" + str(quantity) + \" total is \" + str(total)+ \"\\n\"\n",
    "    grand_total = grand_total + total\n",
    "    i = i+1\n",
    "print(bill)\n",
    "print(\"The grand total amount is Rs. \",grand_total)    \n",
    "    "
   ]
  },
  {
   "cell_type": "code",
   "execution_count": 6,
   "id": "f450c51f",
   "metadata": {},
   "outputs": [],
   "source": [
    "# control statement\n",
    "# continue\n",
    "# break\n"
   ]
  },
  {
   "cell_type": "code",
   "execution_count": 2,
   "id": "7ea566f7",
   "metadata": {},
   "outputs": [
    {
     "name": "stdout",
     "output_type": "stream",
     "text": [
      "0 1 2 3 4 "
     ]
    }
   ],
   "source": [
    "# break\n",
    "i = 0\n",
    "while i<10:\n",
    "    if i == 5:\n",
    "        break\n",
    "    print(i,end = \" \")\n",
    "    i=i+1"
   ]
  },
  {
   "cell_type": "code",
   "execution_count": 1,
   "id": "91a0b3e2",
   "metadata": {},
   "outputs": [
    {
     "name": "stdout",
     "output_type": "stream",
     "text": [
      "0 1 2 3 4 6 7 8 9 "
     ]
    }
   ],
   "source": [
    "# break\n",
    "i = 0\n",
    "while i<10:\n",
    "    if i == 5:\n",
    "        i=i+1\n",
    "        continue\n",
    "        \n",
    "       \n",
    "    print(i,end = \" \")\n",
    "    i=i+1"
   ]
  },
  {
   "cell_type": "code",
   "execution_count": 1,
   "id": "a71c4dd9",
   "metadata": {},
   "outputs": [
    {
     "name": "stdout",
     "output_type": "stream",
     "text": [
      "enter the number3\n",
      "3  number is prime\n"
     ]
    }
   ],
   "source": [
    "n = int(input(\"enter the number\"))\n",
    "i= 2\n",
    "while i<n:\n",
    "    if n%i==0:\n",
    "        print(n,\"is compositr number\")\n",
    "        break\n",
    "    i=i+1\n",
    "else:\n",
    "    print(n,\" number is prime\")\n"
   ]
  },
  {
   "cell_type": "code",
   "execution_count": 2,
   "id": "cd513886",
   "metadata": {},
   "outputs": [
    {
     "name": "stdout",
     "output_type": "stream",
     "text": [
      "0 0\n",
      "0 1\n",
      "1 0\n",
      "1 1\n"
     ]
    }
   ],
   "source": [
    "# nested for loop\n",
    "for i in range(2):\n",
    "    for j in range(2):\n",
    "        print(i,j)"
   ]
  },
  {
   "cell_type": "code",
   "execution_count": 6,
   "id": "f6449729",
   "metadata": {},
   "outputs": [
    {
     "name": "stdout",
     "output_type": "stream",
     "text": [
      " . . . .\n"
     ]
    }
   ],
   "source": [
    "print(4*\" .\")"
   ]
  },
  {
   "cell_type": "code",
   "execution_count": null,
   "id": "23972053",
   "metadata": {},
   "outputs": [],
   "source": []
  }
 ],
 "metadata": {
  "kernelspec": {
   "display_name": "Python 3 (ipykernel)",
   "language": "python",
   "name": "python3"
  },
  "language_info": {
   "codemirror_mode": {
    "name": "ipython",
    "version": 3
   },
   "file_extension": ".py",
   "mimetype": "text/x-python",
   "name": "python",
   "nbconvert_exporter": "python",
   "pygments_lexer": "ipython3",
   "version": "3.11.3"
  }
 },
 "nbformat": 4,
 "nbformat_minor": 5
}
