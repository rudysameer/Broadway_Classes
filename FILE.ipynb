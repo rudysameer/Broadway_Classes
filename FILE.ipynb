{
 "cells": [
  {
   "cell_type": "code",
   "execution_count": 3,
   "id": "c1441ce1",
   "metadata": {},
   "outputs": [],
   "source": [
    "# file = open('<file_name>','<modes>')\n",
    "# file.close()\n",
    "\n",
    "# with open('<file_name>','<modes>')as file:\n",
    "    \n",
    "#     <operation>"
   ]
  },
  {
   "cell_type": "code",
   "execution_count": null,
   "id": "b0924afb",
   "metadata": {},
   "outputs": [],
   "source": [
    "# modes\n",
    "# x = create\n",
    "# r = read\n",
    "# w = write\n",
    "# a-> append\n"
   ]
  },
  {
   "cell_type": "code",
   "execution_count": 6,
   "id": "2070779e",
   "metadata": {},
   "outputs": [],
   "source": [
    "file = open('data.txt','x')\n",
    "file.close()"
   ]
  },
  {
   "cell_type": "code",
   "execution_count": 10,
   "id": "94a99912",
   "metadata": {},
   "outputs": [
    {
     "name": "stdout",
     "output_type": "stream",
     "text": [
      "Hello world\n",
      "Hello world\n",
      "Hello world\n",
      "Hello world\n",
      "Hello world\n",
      "Hello world\n",
      "Hello worldHello world\n",
      "\n",
      "<class 'str'>\n"
     ]
    }
   ],
   "source": [
    "file = open('data.txt','r')\n",
    "y = file.read()\n",
    "print(y)\n",
    "print(type(y))\n",
    "file.close()\n"
   ]
  },
  {
   "cell_type": "code",
   "execution_count": 11,
   "id": "d1a89997",
   "metadata": {},
   "outputs": [
    {
     "data": {
      "text/plain": [
       "['Hello world',\n",
       " 'Hello world',\n",
       " 'Hello world',\n",
       " 'Hello world',\n",
       " 'Hello world',\n",
       " 'Hello world',\n",
       " 'Hello worldHello world',\n",
       " '']"
      ]
     },
     "execution_count": 11,
     "metadata": {},
     "output_type": "execute_result"
    }
   ],
   "source": [
    "y.split('\\n')"
   ]
  },
  {
   "cell_type": "code",
   "execution_count": 12,
   "id": "8bd2b282",
   "metadata": {},
   "outputs": [],
   "source": [
    "file = open('new_data.txt','w')\n",
    "file.write(\"ahahhaa this is python class \")\n",
    "file.close()"
   ]
  },
  {
   "cell_type": "code",
   "execution_count": 17,
   "id": "f99a94a2",
   "metadata": {},
   "outputs": [
    {
     "name": "stdout",
     "output_type": "stream",
     "text": [
      "enter the  total number types of goods\n"
     ]
    },
    {
     "ename": "ValueError",
     "evalue": "invalid literal for int() with base 10: ''",
     "output_type": "error",
     "traceback": [
      "\u001b[1;31m---------------------------------------------------------------------------\u001b[0m",
      "\u001b[1;31mValueError\u001b[0m                                Traceback (most recent call last)",
      "Cell \u001b[1;32mIn[17], line 3\u001b[0m\n\u001b[0;32m      1\u001b[0m bill \u001b[38;5;241m=\u001b[39m \u001b[38;5;124m\"\u001b[39m\u001b[38;5;124m\"\u001b[39m\n\u001b[0;32m      2\u001b[0m grand_total \u001b[38;5;241m=\u001b[39m \u001b[38;5;241m0\u001b[39m\n\u001b[1;32m----> 3\u001b[0m goods \u001b[38;5;241m=\u001b[39m \u001b[38;5;28mint\u001b[39m(\u001b[38;5;28minput\u001b[39m(\u001b[38;5;124m\"\u001b[39m\u001b[38;5;124menter the  total number types of goods\u001b[39m\u001b[38;5;124m\"\u001b[39m))\n\u001b[0;32m      4\u001b[0m \u001b[38;5;28;01mfor\u001b[39;00m i \u001b[38;5;129;01min\u001b[39;00m \u001b[38;5;28mrange\u001b[39m(\u001b[38;5;241m1\u001b[39m,goods\u001b[38;5;241m+\u001b[39m\u001b[38;5;241m1\u001b[39m):\n\u001b[0;32m      5\u001b[0m     name \u001b[38;5;241m=\u001b[39m \u001b[38;5;28minput\u001b[39m(\u001b[38;5;124m\"\u001b[39m\u001b[38;5;124menter the name of good :\u001b[39m\u001b[38;5;124m\"\u001b[39m)\n",
      "\u001b[1;31mValueError\u001b[0m: invalid literal for int() with base 10: ''"
     ]
    }
   ],
   "source": [
    "bill = \"\"\n",
    "grand_total = 0\n",
    "goods = int(input(\"enter the  total number types of goods\"))\n",
    "for i in range(1,goods+1):\n",
    "    name = input(\"enter the name of good :\")\n",
    "    price = int(input(\"enter the a unit price of the good :\"))\n",
    "    quantity = int(input(\"enter the total quantity of the goods :\"))\n",
    "    total = price * quantity\n",
    "    bill = bill + name+ \" price is \"+str(price)+ \" quantity is\" + str(quantity) + \" total is \" + str(total)+ \"\\n\"\n",
    "    grand_total = grand_total + total\n",
    "print(bill)\n",
    "print(\"The grand total amount is Rs. \",grand_total)    \n",
    "file = open('new_data.txt','w')\n",
    "file.write(bill)\n",
    "file.close()\n",
    "    \n",
    "    "
   ]
  },
  {
   "cell_type": "markdown",
   "id": "8694e206",
   "metadata": {},
   "source": [
    "## "
   ]
  },
  {
   "cell_type": "code",
   "execution_count": 18,
   "id": "d0b55139",
   "metadata": {},
   "outputs": [
    {
     "name": "stdout",
     "output_type": "stream",
     "text": [
      "enter the  total number types of goods3\n",
      "enter the name of good :futsal boot \n",
      "enter the a unit price of the good :1500\n",
      "enter the total quantity of the goods :1\n",
      "enter the name of good :pad\n",
      "enter the a unit price of the good :2\n",
      "enter the total quantity of the goods :50\n",
      "enter the name of good :laptop\n",
      "enter the a unit price of the good :1500000\n",
      "enter the total quantity of the goods :1\n",
      "futsal boot  price is 1500 quantity is1 total is 1500\n",
      "pad price is 2 quantity is50 total is 100\n",
      "laptop price is 1500000 quantity is1 total is 1500000\n",
      "\n",
      "The grand total amount is Rs.  1501600\n"
     ]
    }
   ],
   "source": [
    "bill = \"\"\n",
    "grand_total = 0\n",
    "goods = int(input(\"enter the  total number types of goods\"))\n",
    "for i in range(1,goods+1):\n",
    "    name = input(\"enter the name of good :\")\n",
    "    price = int(input(\"enter the a unit price of the good :\"))\n",
    "    quantity = int(input(\"enter the total quantity of the goods :\"))\n",
    "    total = price * quantity\n",
    "    bill = bill + name+ \" price is \"+str(price)+ \" quantity is\" + str(quantity) + \" total is \" + str(total)+ \"\\n\"\n",
    "    grand_total = grand_total + total\n",
    "print(bill)\n",
    "print(\"The grand total amount is Rs. \",grand_total)    \n",
    "file = open('new_data.txt','a')\n",
    "file.write(bill)\n",
    "file.close()\n",
    "    \n",
    "    "
   ]
  },
  {
   "cell_type": "code",
   "execution_count": 24,
   "id": "05782174",
   "metadata": {},
   "outputs": [],
   "source": [
    "file = open('new_data.csv','w')\n",
    "file.write('name,price,quantity,total')\n",
    "file.close()\n",
    "    "
   ]
  },
  {
   "cell_type": "code",
   "execution_count": 28,
   "id": "a4ddc961",
   "metadata": {},
   "outputs": [
    {
     "name": "stdout",
     "output_type": "stream",
     "text": [
      "enter the  total number types of goods1\n",
      "enter the name of good :qwe\n",
      "enter the a unit price of the good :12\n",
      "enter the total quantity of the goods :12\n",
      "qwe,12,12,144\n",
      "The grand total amount is Rs./n  144\n",
      "The grand total amount is Rs./n  144\n"
     ]
    }
   ],
   "source": [
    "bill = \"\"\n",
    "grand_total = 0\n",
    "goods = int(input(\"enter the  total number types of goods\"))\n",
    "for i in range(1,goods+1):\n",
    "    name = input(\"enter the name of good :\")\n",
    "    price = int(input(\"enter the a unit price of the good :\"))\n",
    "    quantity = int(input(\"enter the total quantity of the goods :\"))\n",
    "    total = price * quantity\n",
    "    bill = bill + f\"{name},{price},{quantity},{total}\"\n",
    "   \n",
    "    grand_total = grand_total + total\n",
    "print(bill)\n",
    "print(\"The grand total amount is Rs./n \",grand_total)    \n",
    "print(\"The grand total amount is Rs./n \",grand_total)    \n",
    "file = open('new_data.csv','a')\n",
    "file.write(bill)\n",
    "file.close()\n",
    "    \n",
    "        "
   ]
  },
  {
   "cell_type": "code",
   "execution_count": 27,
   "id": "c24a591e",
   "metadata": {},
   "outputs": [
    {
     "data": {
      "text/plain": [
       "'C:\\\\Users\\\\rocks\\\\Python_Class_3pm_712'"
      ]
     },
     "execution_count": 27,
     "metadata": {},
     "output_type": "execute_result"
    }
   ],
   "source": [
    "pwd\n"
   ]
  },
  {
   "cell_type": "code",
   "execution_count": 29,
   "id": "b807f17f",
   "metadata": {},
   "outputs": [
    {
     "name": "stdout",
     "output_type": "stream",
     "text": [
      "name,price,quantity,totaldeen,12,23,276rofho,12,12,144qwe,12,12,144\n"
     ]
    }
   ],
   "source": [
    "file = open('new_data.csv','r')\n",
    "a=file.read()\n",
    "print(a)\n",
    "file.close()"
   ]
  },
  {
   "cell_type": "code",
   "execution_count": null,
   "id": "4c6abd49",
   "metadata": {},
   "outputs": [],
   "source": []
  },
  {
   "cell_type": "code",
   "execution_count": null,
   "id": "4e6ce13b",
   "metadata": {},
   "outputs": [],
   "source": []
  }
 ],
 "metadata": {
  "kernelspec": {
   "display_name": "Python 3 (ipykernel)",
   "language": "python",
   "name": "python3"
  },
  "language_info": {
   "codemirror_mode": {
    "name": "ipython",
    "version": 3
   },
   "file_extension": ".py",
   "mimetype": "text/x-python",
   "name": "python",
   "nbconvert_exporter": "python",
   "pygments_lexer": "ipython3",
   "version": "3.11.3"
  }
 },
 "nbformat": 4,
 "nbformat_minor": 5
}
