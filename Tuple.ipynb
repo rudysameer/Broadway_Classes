{
 "cells": [
  {
   "cell_type": "code",
   "execution_count": 1,
   "id": "402407dd",
   "metadata": {},
   "outputs": [],
   "source": [
    "#tuple\n",
    "# -Indexing\n",
    "# -Multiple and duplicate data\n",
    "# -ordered\n",
    "# -IMuatable"
   ]
  },
  {
   "cell_type": "code",
   "execution_count": 4,
   "id": "49625ccc",
   "metadata": {},
   "outputs": [
    {
     "name": "stdout",
     "output_type": "stream",
     "text": [
      "<class 'tuple'>\n",
      "(1, 2, 3, 4, 5, 6, 7, 8)\n"
     ]
    }
   ],
   "source": [
    "a = (1,2,3,4,5,6,7,8)\n",
    "print(type(a))\n",
    "print(a)"
   ]
  },
  {
   "cell_type": "code",
   "execution_count": 12,
   "id": "66acb0c0",
   "metadata": {},
   "outputs": [
    {
     "name": "stdout",
     "output_type": "stream",
     "text": [
      "apple\n",
      "('apple', 'balll', 'cat', 'Dog', 'finatic', 'apple', 'apple')\n",
      "('balll', 'Dog', 'apple')\n"
     ]
    }
   ],
   "source": [
    "a = (\"apple\",\"balll\",\"cat\",\"Dog\",\"finatic\",\"apple\", \"apple\")\n",
    "print(a[0])\n",
    "print(a[0:7])\n",
    "print(a[1:6:2])"
   ]
  },
  {
   "cell_type": "code",
   "execution_count": 13,
   "id": "91097959",
   "metadata": {},
   "outputs": [],
   "source": [
    "gender = (\"male\",\"Female\",\"others\")\n"
   ]
  },
  {
   "cell_type": "code",
   "execution_count": 19,
   "id": "a3509208",
   "metadata": {},
   "outputs": [
    {
     "name": "stdout",
     "output_type": "stream",
     "text": [
      "<class 'tuple'>\n",
      "<class 'tuple'>\n"
     ]
    }
   ],
   "source": [
    "a = (1,2,3)\n",
    "b = (\"Apple\",)\n",
    "#a = tuple()\n",
    "print(type(a))\n",
    "print(type(b))"
   ]
  },
  {
   "cell_type": "code",
   "execution_count": 20,
   "id": "973b822d",
   "metadata": {},
   "outputs": [],
   "source": [
    "# no append(),insert(),extend()\n",
    "# NO update\n",
    "# No sort\n",
    "# no del remove() pop()"
   ]
  },
  {
   "cell_type": "code",
   "execution_count": 22,
   "id": "df7aafa8",
   "metadata": {
    "scrolled": true
   },
   "outputs": [
    {
     "name": "stdout",
     "output_type": "stream",
     "text": [
      "enter n= 4\n",
      "enter x or adding data:12\n",
      "enter x or adding data:123\n",
      "enter x or adding data:123\n",
      "enter x or adding data:123\n",
      "(12, 123, 123, 123)\n"
     ]
    }
   ],
   "source": [
    "tuple=()\n",
    "n = int(input(\"enter n= \"))\n",
    "for i in range(n):\n",
    "    x = int(input(\"enter x or adding data:\"))\n",
    "    tuple = tuple + (x,)\n",
    "    \n",
    "print(tuple)    \n",
    "    "
   ]
  },
  {
   "cell_type": "code",
   "execution_count": 25,
   "id": "243c42d0",
   "metadata": {},
   "outputs": [
    {
     "name": "stdout",
     "output_type": "stream",
     "text": [
      "12\n",
      "123\n",
      "271\n"
     ]
    }
   ],
   "source": [
    "\n",
    "tuple = (12, 123, 13, 123)\n",
    "print(min(tuple))\n",
    "print(max(tuple))\n",
    "print(sum(tuple))\n"
   ]
  },
  {
   "cell_type": "code",
   "execution_count": 1,
   "id": "fbe0ab67",
   "metadata": {},
   "outputs": [
    {
     "name": "stdout",
     "output_type": "stream",
     "text": [
      "[12, 123, 13, 123]\n",
      "[12, 13, 123]\n",
      "(12, 13, 123)\n"
     ]
    }
   ],
   "source": [
    "tup = (12, 123, 13, 123)\n",
    "b = list(tup)\n",
    "print(b)\n",
    "del b[1]\n",
    "print(b)\n",
    "up = tuple(b)\n",
    "print(up)\n",
    "\n",
    "\n",
    "\n",
    "\n"
   ]
  },
  {
   "cell_type": "code",
   "execution_count": 30,
   "id": "6a98f1db",
   "metadata": {},
   "outputs": [
    {
     "data": {
      "text/plain": [
       "[(1, 2, 3), (4, 5, 6, 7), (9, 11, 12)]"
      ]
     },
     "execution_count": 30,
     "metadata": {},
     "output_type": "execute_result"
    }
   ],
   "source": [
    "# tuple inside list\n",
    "l = [(1,2,3),(4,5,6,7),(9,11,12)]\n",
    "l"
   ]
  },
  {
   "cell_type": "code",
   "execution_count": 31,
   "id": "a925b7c7",
   "metadata": {},
   "outputs": [
    {
     "data": {
      "text/plain": [
       "([1, 2, 3], [4, 5, 6, 7], [9, 11, 12])"
      ]
     },
     "execution_count": 31,
     "metadata": {},
     "output_type": "execute_result"
    }
   ],
   "source": [
    "l = ([1,2,3],[4,5,6,7],[9,11,12])\n",
    "l"
   ]
  },
  {
   "cell_type": "code",
   "execution_count": 3,
   "id": "11b731a9",
   "metadata": {},
   "outputs": [
    {
     "name": "stdout",
     "output_type": "stream",
     "text": [
      "((1, 2, 3), (4, 5, 6), (7, 8, 9))\n"
     ]
    }
   ],
   "source": [
    "# tuple inside tuple\n",
    "t = ((1,2,3),(4,5,6),(7,8,9))\n",
    "print(t)\n",
    "\n"
   ]
  },
  {
   "cell_type": "code",
   "execution_count": 15,
   "id": "686cd53e",
   "metadata": {},
   "outputs": [
    {
     "name": "stdout",
     "output_type": "stream",
     "text": [
      "[(1, 2, 3), (4, 5, 6), (7, 8, 9)]\n",
      "[[1, 2, 3], [4, 5, 6], [7, 8, 9]]\n"
     ]
    }
   ],
   "source": [
    "t = ((1,2,3),(4,5,6),(7,8,9))\n",
    "data = []\n",
    "l = list(t)\n",
    "print(l)\n",
    "\n",
    "for i in l[0:3]:\n",
    "    data.append(list(i))\n",
    "    \n",
    "print(data)\n"
   ]
  },
  {
   "cell_type": "code",
   "execution_count": 4,
   "id": "c6f07c4b",
   "metadata": {},
   "outputs": [
    {
     "name": "stdout",
     "output_type": "stream",
     "text": [
      "([1, 2, 3], [4, 5, 6], [7, 8, 9])\n",
      "[1, 2, 3]\n",
      "[4, 5, 6]\n",
      "[7, 8, 9]\n",
      "((1, 2, 3), (4, 5, 6), (7, 8, 9))\n"
     ]
    }
   ],
   "source": [
    "# WAP TO CONVERT LIST inside list to tuple inside tuple\n",
    "lis=[[1, 2, 3], [4, 5, 6], [7, 8, 9]]\n",
    "ups=()\n",
    "\n",
    "tup=tuple(lis)\n",
    "print(tup)\n",
    "for i in tup:\n",
    "    tuple(i)\n",
    "    print(i)\n",
    "    ups= ups+(tuple(i),)\n",
    "print(ups)    "
   ]
  },
  {
   "cell_type": "code",
   "execution_count": null,
   "id": "7af3d89a",
   "metadata": {},
   "outputs": [],
   "source": []
  }
 ],
 "metadata": {
  "kernelspec": {
   "display_name": "Python 3 (ipykernel)",
   "language": "python",
   "name": "python3"
  },
  "language_info": {
   "codemirror_mode": {
    "name": "ipython",
    "version": 3
   },
   "file_extension": ".py",
   "mimetype": "text/x-python",
   "name": "python",
   "nbconvert_exporter": "python",
   "pygments_lexer": "ipython3",
   "version": "3.11.3"
  }
 },
 "nbformat": 4,
 "nbformat_minor": 5
}
